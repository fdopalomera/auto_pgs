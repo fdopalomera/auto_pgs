{
 "cells": [
  {
   "cell_type": "markdown",
   "metadata": {},
   "source": [
    "# Implementación \n",
    "### Equipo: "
   ]
  },
  {
   "cell_type": "code",
   "execution_count": 1,
   "metadata": {},
   "outputs": [],
   "source": [
    "# Parámetros generales del notebook\n",
    "ruta_bases = 'bases/'\n",
    "sample_size = 200000\n",
    "cv = 3"
   ]
  },
  {
   "cell_type": "code",
   "execution_count": 2,
   "metadata": {},
   "outputs": [],
   "source": [
    "# Preparación ambiente AWS SageMaker\n",
    "#!pip install --upgrade pip\n",
    "#!pip install xgboost\n",
    "#!pip install lightgbm\n",
    "#!pip install -U scikit_learn\n",
    "#!pip install -U pandas"
   ]
  },
  {
   "cell_type": "code",
   "execution_count": 3,
   "metadata": {},
   "outputs": [],
   "source": [
    "# Importación de librerías\n",
    "import json\n",
    "import glob\n",
    "import pandas as pd\n",
    "import numpy as np\n",
    "#import missingno as msgno\n",
    "import matplotlib.pyplot as plt\n",
    "import funciones as fn\n",
    "import seaborn as sns\n",
    "import warnings\n",
    "warnings.filterwarnings('ignore')\n",
    "from ml_classes import PrepML, MLModel\n",
    "from matplotlib.pyplot import rcParams\n",
    "from sklearn.ensemble import RandomForestRegressor\n",
    "from xgboost import XGBRegressor\n",
    "from lightgbm import LGBMRegressor\n",
    "from sklearn.linear_model import Ridge\n",
    "from lib.get_nhtsa_json import get_nhtsa_json"
   ]
  },
  {
   "cell_type": "code",
   "execution_count": 4,
   "metadata": {},
   "outputs": [],
   "source": [
    "# Parámetros generales para plots\n",
    "plt.style.use('ggplot')\n",
    "plt.rcParams['figure.figsize'] = 15, 8\n",
    "# Semilla pseudo-aleatoria\n",
    "rd_seed = 1234"
   ]
  },
  {
   "cell_type": "markdown",
   "metadata": {},
   "source": [
    "# 0. Obtener la información"
   ]
  },
  {
   "cell_type": "markdown",
   "metadata": {},
   "source": [
    "Esta es una demostración del proceso realizado por `get_features.py` para poder obtener información relacionada con el `Vin` de los vehículos a través de una API. El proceso consite en los siguientes pasos:\n",
    "* 1.- Extraer todos los `Vin` de la base completa `true_car_listings.csv`.\n",
    "* 2.- Requerir a través de la Api 'chunks' de 50 registros por cada petición.\n",
    "* 3.- Guardar en la memoria el json en formato texto, agregando 50 registros por cada iteración.\n",
    "* 4.- Una vez completada las iteraciones guardar en formato json todos los registros requeridos."
   ]
  },
  {
   "cell_type": "code",
   "execution_count": 5,
   "metadata": {},
   "outputs": [
    {
     "name": "stdout",
     "output_type": "stream",
     "text": [
      "8: 11.0s\n"
     ]
    }
   ],
   "source": [
    "# Requerimos todos los 'Vin'    \n",
    "all_vins = pd.read_csv(f'{ruta_bases}true_car_listings.csv')['Vin'].to_list()\n",
    "# Parámetros de muestra\n",
    "start = 8\n",
    "end = 8\n",
    "\n",
    "json_text = '['\n",
    "for i in range(start, end+1):\n",
    "    # Generar requerimiento con 50 registros Vin\n",
    "    vin_list = all_vins[50 * (i - 1):50 * i]\n",
    "    json_text += get_nhtsa_json(vin_list, i)\n",
    "\n",
    "# Cerrar lista de Json\n",
    "json_text = json_text[:-2] + ']'\n",
    "# Exportar resultados a archivo json\n",
    "with open(f'api_test/data_{start}_{end}.json', 'w') as json_file:\n",
    "    json_file.write(json_text)"
   ]
  },
  {
   "cell_type": "markdown",
   "metadata": {},
   "source": [
    "Paralelamente, en base a una muestra de la base total, se definió el primer filtro de variables requeridas a través la API: que tengan menos del 10% de datos perdidos, las cuales se presentan a continaución:"
   ]
  },
  {
   "cell_type": "code",
   "execution_count": 6,
   "metadata": {},
   "outputs": [],
   "source": [
    "cols = ['AirBagLocFront', 'BodyClass', 'BusFloorConfigType', 'BusType',\n",
    "       'CustomMotorcycleType', 'DisplacementCC', 'DisplacementCI',\n",
    "       'DisplacementL', 'Doors', 'EngineCylinders', 'EngineHP', 'EngineKW',\n",
    "       'ErrorCode', 'ErrorText', 'FuelTypePrimary', 'Make', 'Manufacturer',\n",
    "       'ManufacturerId', 'Model', 'ModelYear', 'MotorcycleChassisType',\n",
    "       'MotorcycleSuspensionType', 'PlantCity', 'PlantCountry', 'TPMS',\n",
    "       'TrailerBodyType', 'TrailerType', 'VIN', 'VehicleType']"
   ]
  },
  {
   "cell_type": "markdown",
   "metadata": {},
   "source": [
    "Con estas columnas seleccionadas, se procede a importar los archivos json (varios en el proceso original) para luego mapearlos para retraer solo aquellas columnas, creando un DataFrame con ellas y luego exportarlas en un csv."
   ]
  },
  {
   "cell_type": "code",
   "execution_count": 7,
   "metadata": {},
   "outputs": [
    {
     "name": "stdout",
     "output_type": "stream",
     "text": [
      "api_test/data_8_8.json\n"
     ]
    },
    {
     "ename": "ValueError",
     "evalue": "29 columns passed, passed data had 0 columns",
     "output_type": "error",
     "traceback": [
      "\u001b[0;31m---------------------------------------------------------------------------\u001b[0m",
      "\u001b[0;31mAssertionError\u001b[0m                            Traceback (most recent call last)",
      "\u001b[0;32m~/miniconda3/lib/python3.7/site-packages/pandas/core/internals/construction.py\u001b[0m in \u001b[0;36m_list_to_arrays\u001b[0;34m(data, columns, coerce_float, dtype)\u001b[0m\n\u001b[1;32m    499\u001b[0m         result = _convert_object_array(\n\u001b[0;32m--> 500\u001b[0;31m             \u001b[0mcontent\u001b[0m\u001b[0;34m,\u001b[0m \u001b[0mcolumns\u001b[0m\u001b[0;34m,\u001b[0m \u001b[0mdtype\u001b[0m\u001b[0;34m=\u001b[0m\u001b[0mdtype\u001b[0m\u001b[0;34m,\u001b[0m \u001b[0mcoerce_float\u001b[0m\u001b[0;34m=\u001b[0m\u001b[0mcoerce_float\u001b[0m\u001b[0;34m\u001b[0m\u001b[0;34m\u001b[0m\u001b[0m\n\u001b[0m\u001b[1;32m    501\u001b[0m         )\n",
      "\u001b[0;32m~/miniconda3/lib/python3.7/site-packages/pandas/core/internals/construction.py\u001b[0m in \u001b[0;36m_convert_object_array\u001b[0;34m(content, columns, coerce_float, dtype)\u001b[0m\n\u001b[1;32m    582\u001b[0m                 \u001b[0;34m\"{col:d} columns passed, passed data had \"\u001b[0m\u001b[0;34m\u001b[0m\u001b[0;34m\u001b[0m\u001b[0m\n\u001b[0;32m--> 583\u001b[0;31m                 \u001b[0;34m\"{con} columns\"\u001b[0m\u001b[0;34m.\u001b[0m\u001b[0mformat\u001b[0m\u001b[0;34m(\u001b[0m\u001b[0mcol\u001b[0m\u001b[0;34m=\u001b[0m\u001b[0mlen\u001b[0m\u001b[0;34m(\u001b[0m\u001b[0mcolumns\u001b[0m\u001b[0;34m)\u001b[0m\u001b[0;34m,\u001b[0m \u001b[0mcon\u001b[0m\u001b[0;34m=\u001b[0m\u001b[0mlen\u001b[0m\u001b[0;34m(\u001b[0m\u001b[0mcontent\u001b[0m\u001b[0;34m)\u001b[0m\u001b[0;34m)\u001b[0m\u001b[0;34m\u001b[0m\u001b[0;34m\u001b[0m\u001b[0m\n\u001b[0m\u001b[1;32m    584\u001b[0m             )\n",
      "\u001b[0;31mAssertionError\u001b[0m: 29 columns passed, passed data had 0 columns",
      "\nThe above exception was the direct cause of the following exception:\n",
      "\u001b[0;31mValueError\u001b[0m                                Traceback (most recent call last)",
      "\u001b[0;32m<ipython-input-7-c0148a44bcad>\u001b[0m in \u001b[0;36m<module>\u001b[0;34m\u001b[0m\n\u001b[1;32m     15\u001b[0m \u001b[0;31m# Creación y exortación de DataFrame con features extraídos\u001b[0m\u001b[0;34m\u001b[0m\u001b[0;34m\u001b[0m\u001b[0;34m\u001b[0m\u001b[0m\n\u001b[1;32m     16\u001b[0m data_json = pd.DataFrame(data=json_list,\n\u001b[0;32m---> 17\u001b[0;31m                          columns=cols)\n\u001b[0m\u001b[1;32m     18\u001b[0m \u001b[0mdata_json\u001b[0m\u001b[0;34m.\u001b[0m\u001b[0mto_csv\u001b[0m\u001b[0;34m(\u001b[0m\u001b[0;34m'api_test/data_api.csv'\u001b[0m\u001b[0;34m)\u001b[0m\u001b[0;34m\u001b[0m\u001b[0;34m\u001b[0m\u001b[0m\n",
      "\u001b[0;32m~/miniconda3/lib/python3.7/site-packages/pandas/core/frame.py\u001b[0m in \u001b[0;36m__init__\u001b[0;34m(self, data, index, columns, dtype, copy)\u001b[0m\n\u001b[1;32m    448\u001b[0m                     \u001b[0;32mif\u001b[0m \u001b[0mis_named_tuple\u001b[0m\u001b[0;34m(\u001b[0m\u001b[0mdata\u001b[0m\u001b[0;34m[\u001b[0m\u001b[0;36m0\u001b[0m\u001b[0;34m]\u001b[0m\u001b[0;34m)\u001b[0m \u001b[0;32mand\u001b[0m \u001b[0mcolumns\u001b[0m \u001b[0;32mis\u001b[0m \u001b[0;32mNone\u001b[0m\u001b[0;34m:\u001b[0m\u001b[0;34m\u001b[0m\u001b[0;34m\u001b[0m\u001b[0m\n\u001b[1;32m    449\u001b[0m                         \u001b[0mcolumns\u001b[0m \u001b[0;34m=\u001b[0m \u001b[0mdata\u001b[0m\u001b[0;34m[\u001b[0m\u001b[0;36m0\u001b[0m\u001b[0;34m]\u001b[0m\u001b[0;34m.\u001b[0m\u001b[0m_fields\u001b[0m\u001b[0;34m\u001b[0m\u001b[0;34m\u001b[0m\u001b[0m\n\u001b[0;32m--> 450\u001b[0;31m                     \u001b[0marrays\u001b[0m\u001b[0;34m,\u001b[0m \u001b[0mcolumns\u001b[0m \u001b[0;34m=\u001b[0m \u001b[0mto_arrays\u001b[0m\u001b[0;34m(\u001b[0m\u001b[0mdata\u001b[0m\u001b[0;34m,\u001b[0m \u001b[0mcolumns\u001b[0m\u001b[0;34m,\u001b[0m \u001b[0mdtype\u001b[0m\u001b[0;34m=\u001b[0m\u001b[0mdtype\u001b[0m\u001b[0;34m)\u001b[0m\u001b[0;34m\u001b[0m\u001b[0;34m\u001b[0m\u001b[0m\n\u001b[0m\u001b[1;32m    451\u001b[0m                     \u001b[0mcolumns\u001b[0m \u001b[0;34m=\u001b[0m \u001b[0mensure_index\u001b[0m\u001b[0;34m(\u001b[0m\u001b[0mcolumns\u001b[0m\u001b[0;34m)\u001b[0m\u001b[0;34m\u001b[0m\u001b[0;34m\u001b[0m\u001b[0m\n\u001b[1;32m    452\u001b[0m \u001b[0;34m\u001b[0m\u001b[0m\n",
      "\u001b[0;32m~/miniconda3/lib/python3.7/site-packages/pandas/core/internals/construction.py\u001b[0m in \u001b[0;36mto_arrays\u001b[0;34m(data, columns, coerce_float, dtype)\u001b[0m\n\u001b[1;32m    462\u001b[0m         \u001b[0;32mreturn\u001b[0m \u001b[0;34m[\u001b[0m\u001b[0;34m]\u001b[0m\u001b[0;34m,\u001b[0m \u001b[0;34m[\u001b[0m\u001b[0;34m]\u001b[0m  \u001b[0;31m# columns if columns is not None else []\u001b[0m\u001b[0;34m\u001b[0m\u001b[0;34m\u001b[0m\u001b[0m\n\u001b[1;32m    463\u001b[0m     \u001b[0;32mif\u001b[0m \u001b[0misinstance\u001b[0m\u001b[0;34m(\u001b[0m\u001b[0mdata\u001b[0m\u001b[0;34m[\u001b[0m\u001b[0;36m0\u001b[0m\u001b[0;34m]\u001b[0m\u001b[0;34m,\u001b[0m \u001b[0;34m(\u001b[0m\u001b[0mlist\u001b[0m\u001b[0;34m,\u001b[0m \u001b[0mtuple\u001b[0m\u001b[0;34m)\u001b[0m\u001b[0;34m)\u001b[0m\u001b[0;34m:\u001b[0m\u001b[0;34m\u001b[0m\u001b[0;34m\u001b[0m\u001b[0m\n\u001b[0;32m--> 464\u001b[0;31m         \u001b[0;32mreturn\u001b[0m \u001b[0m_list_to_arrays\u001b[0m\u001b[0;34m(\u001b[0m\u001b[0mdata\u001b[0m\u001b[0;34m,\u001b[0m \u001b[0mcolumns\u001b[0m\u001b[0;34m,\u001b[0m \u001b[0mcoerce_float\u001b[0m\u001b[0;34m=\u001b[0m\u001b[0mcoerce_float\u001b[0m\u001b[0;34m,\u001b[0m \u001b[0mdtype\u001b[0m\u001b[0;34m=\u001b[0m\u001b[0mdtype\u001b[0m\u001b[0;34m)\u001b[0m\u001b[0;34m\u001b[0m\u001b[0;34m\u001b[0m\u001b[0m\n\u001b[0m\u001b[1;32m    465\u001b[0m     \u001b[0;32melif\u001b[0m \u001b[0misinstance\u001b[0m\u001b[0;34m(\u001b[0m\u001b[0mdata\u001b[0m\u001b[0;34m[\u001b[0m\u001b[0;36m0\u001b[0m\u001b[0;34m]\u001b[0m\u001b[0;34m,\u001b[0m \u001b[0mabc\u001b[0m\u001b[0;34m.\u001b[0m\u001b[0mMapping\u001b[0m\u001b[0;34m)\u001b[0m\u001b[0;34m:\u001b[0m\u001b[0;34m\u001b[0m\u001b[0;34m\u001b[0m\u001b[0m\n\u001b[1;32m    466\u001b[0m         return _list_of_dict_to_arrays(\n",
      "\u001b[0;32m~/miniconda3/lib/python3.7/site-packages/pandas/core/internals/construction.py\u001b[0m in \u001b[0;36m_list_to_arrays\u001b[0;34m(data, columns, coerce_float, dtype)\u001b[0m\n\u001b[1;32m    501\u001b[0m         )\n\u001b[1;32m    502\u001b[0m     \u001b[0;32mexcept\u001b[0m \u001b[0mAssertionError\u001b[0m \u001b[0;32mas\u001b[0m \u001b[0me\u001b[0m\u001b[0;34m:\u001b[0m\u001b[0;34m\u001b[0m\u001b[0;34m\u001b[0m\u001b[0m\n\u001b[0;32m--> 503\u001b[0;31m         \u001b[0;32mraise\u001b[0m \u001b[0mValueError\u001b[0m\u001b[0;34m(\u001b[0m\u001b[0me\u001b[0m\u001b[0;34m)\u001b[0m \u001b[0;32mfrom\u001b[0m \u001b[0me\u001b[0m\u001b[0;34m\u001b[0m\u001b[0;34m\u001b[0m\u001b[0m\n\u001b[0m\u001b[1;32m    504\u001b[0m     \u001b[0;32mreturn\u001b[0m \u001b[0mresult\u001b[0m\u001b[0;34m\u001b[0m\u001b[0;34m\u001b[0m\u001b[0m\n\u001b[1;32m    505\u001b[0m \u001b[0;34m\u001b[0m\u001b[0m\n",
      "\u001b[0;31mValueError\u001b[0m: 29 columns passed, passed data had 0 columns"
     ]
    }
   ],
   "source": [
    "# Importación de archivo json\n",
    "filenames = glob.glob('api_test/*.json')\n",
    "json_list = []\n",
    "\n",
    "for filename in filenames:\n",
    "    print(filename)\n",
    "    with open(filename, 'r') as file:\n",
    "        # Mapeamos considerando solo las columnas seleccionadas\n",
    "        data = list(map(fn.get_info, \n",
    "                        json.loads(file.read())\n",
    "                       )\n",
    "                   )\n",
    "    json_list += data\n",
    "\n",
    "# Creación y exortación de DataFrame con features extraídos\n",
    "data_json = pd.DataFrame(data=json_list,\n",
    "                         columns=cols)\n",
    "data_json.to_csv('api_test/data_api.csv')"
   ]
  },
  {
   "cell_type": "markdown",
   "metadata": {},
   "source": [
    "# 1. Creación del Dataset "
   ]
  },
  {
   "cell_type": "markdown",
   "metadata": {},
   "source": [
    "## 1.1 Bases Originales"
   ]
  },
  {
   "cell_type": "code",
   "execution_count": 8,
   "metadata": {},
   "outputs": [
    {
     "name": "stdout",
     "output_type": "stream",
     "text": [
      "Base Train: (639145, 8)\n",
      "Base Test: (212977, 8)\n"
     ]
    }
   ],
   "source": [
    "# Importación de las bases para muestras de entrenamiento y prueba\n",
    "df_train = pd.read_csv(f'{ruta_bases}true_cars_train.csv',\n",
    "                       delimiter=\";\")\n",
    "df_test = pd.read_csv(f'{ruta_bases}true_cars_test.csv',\n",
    "                      delimiter=\";\")\n",
    "# Dimensiones de las bases\n",
    "print(f'Base Train: {df_train.shape}\\nBase Test: {df_test.shape}')"
   ]
  },
  {
   "cell_type": "code",
   "execution_count": 9,
   "metadata": {},
   "outputs": [
    {
     "name": "stdout",
     "output_type": "stream",
     "text": [
      "<class 'pandas.core.frame.DataFrame'>\n",
      "RangeIndex: 639145 entries, 0 to 639144\n",
      "Data columns (total 8 columns):\n",
      "Price      639145 non-null int64\n",
      "Year       639145 non-null int64\n",
      "Mileage    639145 non-null int64\n",
      "City       639145 non-null object\n",
      "State      639145 non-null object\n",
      "Vin        639145 non-null object\n",
      "Make       639145 non-null object\n",
      "Model      639145 non-null object\n",
      "dtypes: int64(3), object(5)\n",
      "memory usage: 39.0+ MB\n"
     ]
    }
   ],
   "source": [
    "# Información general de muestra de entrenamiento\n",
    "df_train.info()"
   ]
  },
  {
   "cell_type": "code",
   "execution_count": 10,
   "metadata": {},
   "outputs": [],
   "source": [
    "# Creación de atributo 'sample'\n",
    "df_train['sample'] = 'train'\n",
    "df_test['sample'] = 'test'"
   ]
  },
  {
   "cell_type": "code",
   "execution_count": 11,
   "metadata": {},
   "outputs": [
    {
     "name": "stdout",
     "output_type": "stream",
     "text": [
      "Base Data: (852122, 9)\n"
     ]
    }
   ],
   "source": [
    "# Unión de ambas bases\n",
    "df_data = pd.concat([df_train, df_test])\n",
    "print(f'Base Data: {df_data.shape}')"
   ]
  },
  {
   "cell_type": "markdown",
   "metadata": {},
   "source": [
    "## 1.2 Base API"
   ]
  },
  {
   "cell_type": "code",
   "execution_count": 12,
   "metadata": {},
   "outputs": [
    {
     "name": "stdout",
     "output_type": "stream",
     "text": [
      "Base API: (846562, 29)\n"
     ]
    }
   ],
   "source": [
    "# Importación de la base extraída por el requerimiento a la api\n",
    "df_api = pd.read_csv(f'{ruta_bases}api_features.csv').drop(columns='Unnamed: 0')\n",
    "print(f'Base API: {df_api.shape}')"
   ]
  },
  {
   "cell_type": "code",
   "execution_count": 13,
   "metadata": {},
   "outputs": [
    {
     "name": "stdout",
     "output_type": "stream",
     "text": [
      "<class 'pandas.core.frame.DataFrame'>\n",
      "RangeIndex: 846562 entries, 0 to 846561\n",
      "Data columns (total 29 columns):\n",
      "AirBagLocFront              797265 non-null object\n",
      "BodyClass                   845535 non-null object\n",
      "BusFloorConfigType          843524 non-null object\n",
      "BusType                     843524 non-null object\n",
      "CustomMotorcycleType        846525 non-null object\n",
      "DisplacementCC              839096 non-null float64\n",
      "DisplacementCI              839096 non-null float64\n",
      "DisplacementL               839096 non-null float64\n",
      "Doors                       739918 non-null float64\n",
      "EngineCylinders             735744 non-null object\n",
      "EngineHP                    380764 non-null object\n",
      "EngineKW                    380764 non-null object\n",
      "ErrorCode                   846550 non-null object\n",
      "ErrorText                   846550 non-null object\n",
      "FuelTypePrimary             789859 non-null object\n",
      "Make                        846525 non-null object\n",
      "Manufacturer                846525 non-null object\n",
      "ManufacturerId              846525 non-null float64\n",
      "Model                       846044 non-null object\n",
      "ModelYear                   846522 non-null float64\n",
      "MotorcycleChassisType       846525 non-null object\n",
      "MotorcycleSuspensionType    846525 non-null object\n",
      "PlantCity                   694188 non-null object\n",
      "PlantCountry                798155 non-null object\n",
      "TPMS                        674177 non-null object\n",
      "TrailerBodyType             846524 non-null object\n",
      "TrailerType                 846524 non-null object\n",
      "VIN                         846550 non-null object\n",
      "VehicleType                 846525 non-null object\n",
      "dtypes: float64(6), object(23)\n",
      "memory usage: 187.3+ MB\n"
     ]
    }
   ],
   "source": [
    "df_api.info()"
   ]
  },
  {
   "cell_type": "code",
   "execution_count": 14,
   "metadata": {},
   "outputs": [],
   "source": [
    "# Identificar columnas con solo valores \"Not Applicable\" \n",
    "notapp_series = df_api\\\n",
    "                    .isin(['Not Applicable'])\\\n",
    "                    .sum()\n",
    "cols2drop = list(notapp_series[notapp_series > 1].index)"
   ]
  },
  {
   "cell_type": "code",
   "execution_count": 15,
   "metadata": {},
   "outputs": [],
   "source": [
    "# Identificar columnas con más de un 15% de datos perdidos\n",
    "null_series = df_api\\\n",
    "                .isnull()\\\n",
    "                .sum()\\\n",
    "                /df_api.shape[0] \n",
    "cols2drop += list(null_series[null_series > .15].index)"
   ]
  },
  {
   "cell_type": "code",
   "execution_count": 16,
   "metadata": {},
   "outputs": [],
   "source": [
    "# Columnas repetidas en la data original\n",
    "cols2drop += ['ModelYear', 'Make']"
   ]
  },
  {
   "cell_type": "code",
   "execution_count": 17,
   "metadata": {},
   "outputs": [
    {
     "name": "stdout",
     "output_type": "stream",
     "text": [
      "Base API: (846562, 16)\n"
     ]
    }
   ],
   "source": [
    "# Borrar aquellas columnas \n",
    "df_api = df_api.drop(columns=cols2drop)\n",
    "print(f'Base API: {df_api.shape}')"
   ]
  },
  {
   "cell_type": "code",
   "execution_count": 18,
   "metadata": {},
   "outputs": [],
   "source": [
    "df_api=df_api.rename(columns={\"AirBagLocFront\":\"Airag_LocFront\",\n",
    "                        \"BodyClass\":\"d_Body_Class\",\n",
    "                        \"DisplacementCC\":\"d_DisplacementCC\",\n",
    "                        \"DisplacementCI\":\"d_DisplacementCI\",\n",
    "                        \"DisplacementL\":\"d_DisplacementL\",\n",
    "                        \"Doors\":\"d_Doors\",\n",
    "                        \"EngineCylinders \":\"d_EngineCylinders\",\n",
    "                        \"EngineHP\":\"d_EngineHP\",\n",
    "                        \"EngineKW\":\"d_EngineKW\",\n",
    "                        \"ErrorCode\":\"d_ErrorCode\",\n",
    "                        \"ErrorText\":\"d_ErrorText\",\n",
    "                        \"FuelTypePrimary\":\"d_FuelTypePrimary\",\n",
    "                        \"Make\":\"d_Make\",\n",
    "                        \"Manufacturer\":\"d_Manufacturer\",\n",
    "                        \"ManufacturerId\":\"d_ManufacturerId\",\n",
    "                        \"Model\":\"d_Model\",\n",
    "                        \"ModelYear\":\"d_ModelYear\",\n",
    "                        \"PlantCity\":\"d_PlantCity\",\n",
    "                        \"PlantCountry\":\"d_PlantCountry\",\n",
    "                        \"TPMS\":\"d_TPMS\",\n",
    "                        \"VIN\":\"Vin\",\n",
    "                        \"VehicleType\":\"d_VehicleType\"})"
   ]
  },
  {
   "cell_type": "markdown",
   "metadata": {},
   "source": [
    "## 1.3 Unión de Bases"
   ]
  },
  {
   "cell_type": "code",
   "execution_count": 19,
   "metadata": {},
   "outputs": [
    {
     "name": "stdout",
     "output_type": "stream",
     "text": [
      "Dataset: (846644, 24)\n"
     ]
    }
   ],
   "source": [
    "# Unión de bases\n",
    "df = pd.merge(left=df_data, \n",
    "              right=df_api, \n",
    "              how='inner',\n",
    "              on='Vin')\n",
    "# Dimensiones de la base\n",
    "print(f'Dataset: {df.shape}')"
   ]
  },
  {
   "cell_type": "code",
   "execution_count": 20,
   "metadata": {},
   "outputs": [
    {
     "name": "stdout",
     "output_type": "stream",
     "text": [
      "<class 'pandas.core.frame.DataFrame'>\n",
      "Int64Index: 846644 entries, 0 to 846643\n",
      "Data columns (total 24 columns):\n",
      "Price                846644 non-null int64\n",
      "Year                 846644 non-null int64\n",
      "Mileage              846644 non-null int64\n",
      "City                 846644 non-null object\n",
      "State                846644 non-null object\n",
      "Vin                  846644 non-null object\n",
      "Make                 846644 non-null object\n",
      "Model                846644 non-null object\n",
      "sample               846644 non-null object\n",
      "Airag_LocFront       797359 non-null object\n",
      "d_Body_Class         845629 non-null object\n",
      "d_DisplacementCC     839190 non-null float64\n",
      "d_DisplacementCI     839190 non-null float64\n",
      "d_DisplacementL      839190 non-null float64\n",
      "d_Doors              740010 non-null float64\n",
      "EngineCylinders      735838 non-null object\n",
      "d_ErrorCode          846644 non-null object\n",
      "d_ErrorText          846644 non-null object\n",
      "d_FuelTypePrimary    789951 non-null object\n",
      "d_Manufacturer       846619 non-null object\n",
      "d_ManufacturerId     846619 non-null float64\n",
      "d_Model              846138 non-null object\n",
      "d_PlantCountry       798249 non-null object\n",
      "d_VehicleType        846619 non-null object\n",
      "dtypes: float64(5), int64(3), object(16)\n",
      "memory usage: 161.5+ MB\n"
     ]
    }
   ],
   "source": [
    "# Información general de la base\n",
    "df.info()"
   ]
  },
  {
   "cell_type": "code",
   "execution_count": 21,
   "metadata": {},
   "outputs": [],
   "source": [
    "# Filtrar 30 modelos\n",
    "modelos = df['Make'].value_counts()\n",
    "df = df[df['Make'].isin(modelos[modelos > 30].index)]"
   ]
  },
  {
   "cell_type": "code",
   "execution_count": 22,
   "metadata": {},
   "outputs": [],
   "source": [
    "clase = df['d_Body_Class'].value_counts()\n",
    "df = df[df['d_Body_Class'].isin(clase[clase > 1000].index)]"
   ]
  },
  {
   "cell_type": "markdown",
   "metadata": {},
   "source": [
    "# 2. Análisis exploratorio de datos"
   ]
  },
  {
   "cell_type": "markdown",
   "metadata": {},
   "source": [
    "## 2.1 Análisis de los datos perdidos"
   ]
  },
  {
   "cell_type": "code",
   "execution_count": 23,
   "metadata": {},
   "outputs": [],
   "source": [
    "#msgno.matrix(df)"
   ]
  },
  {
   "cell_type": "markdown",
   "metadata": {},
   "source": [
    "# 3. Preproceso"
   ]
  },
  {
   "cell_type": "code",
   "execution_count": 24,
   "metadata": {},
   "outputs": [],
   "source": [
    "# Liberar Espacio Memoria\n",
    "del df_api\n",
    "del df_data\n",
    "del df_train\n",
    "del df_test"
   ]
  },
  {
   "cell_type": "code",
   "execution_count": 25,
   "metadata": {},
   "outputs": [],
   "source": [
    "# Selección de variables para modelos\n",
    "select_vars = ['Price', 'Mileage', 'sample', 'd_Body_Class', 'Make']\n",
    "#sample_size = df[select_vars].shape[0]"
   ]
  },
  {
   "cell_type": "code",
   "execution_count": 26,
   "metadata": {},
   "outputs": [],
   "source": [
    "# Muestra aleatoria\n",
    "df_sample = df[select_vars]\\\n",
    "                .sample(sample_size)\\\n",
    "                .reset_index(drop=True)\\"
   ]
  },
  {
   "cell_type": "code",
   "execution_count": 27,
   "metadata": {},
   "outputs": [],
   "source": [
    "# Instanciar clase para realizar preproceso\n",
    "df_prep = PrepML(df_sample)"
   ]
  },
  {
   "cell_type": "code",
   "execution_count": 28,
   "metadata": {},
   "outputs": [
    {
     "data": {
      "text/html": [
       "<div>\n",
       "<style scoped>\n",
       "    .dataframe tbody tr th:only-of-type {\n",
       "        vertical-align: middle;\n",
       "    }\n",
       "\n",
       "    .dataframe tbody tr th {\n",
       "        vertical-align: top;\n",
       "    }\n",
       "\n",
       "    .dataframe thead th {\n",
       "        text-align: right;\n",
       "    }\n",
       "</style>\n",
       "<table border=\"1\" class=\"dataframe\">\n",
       "  <thead>\n",
       "    <tr style=\"text-align: right;\">\n",
       "      <th></th>\n",
       "      <th>Price</th>\n",
       "      <th>Mileage</th>\n",
       "      <th>sample</th>\n",
       "      <th>d_Body_Class_Sport_Utility_Vehicle__SUV__Multi_Purpose_Vehicle__MPV_</th>\n",
       "      <th>d_Body_Class_Wagon</th>\n",
       "      <th>d_Body_Class_Pickup</th>\n",
       "      <th>d_Body_Class_Hatchback_Liftback_Notchback</th>\n",
       "      <th>d_Body_Class_Coupe</th>\n",
       "      <th>d_Body_Class_Minivan</th>\n",
       "      <th>d_Body_Class_Convertible_Cabriolet</th>\n",
       "      <th>...</th>\n",
       "      <th>Make_Genesis</th>\n",
       "      <th>Make_Oldsmobile</th>\n",
       "      <th>Make_Aston</th>\n",
       "      <th>Make_Lamborghini</th>\n",
       "      <th>Make_Isuzu</th>\n",
       "      <th>Make_Rolls_Royce</th>\n",
       "      <th>Make_Alfa</th>\n",
       "      <th>Make_Plymouth</th>\n",
       "      <th>Make_McLaren</th>\n",
       "      <th>Make_Lotus</th>\n",
       "    </tr>\n",
       "  </thead>\n",
       "  <tbody>\n",
       "    <tr>\n",
       "      <th>0</th>\n",
       "      <td>13699</td>\n",
       "      <td>33452</td>\n",
       "      <td>train</td>\n",
       "      <td>0.0</td>\n",
       "      <td>0.0</td>\n",
       "      <td>0.0</td>\n",
       "      <td>0.0</td>\n",
       "      <td>0.0</td>\n",
       "      <td>0.0</td>\n",
       "      <td>0.0</td>\n",
       "      <td>...</td>\n",
       "      <td>0.0</td>\n",
       "      <td>0.0</td>\n",
       "      <td>0.0</td>\n",
       "      <td>0.0</td>\n",
       "      <td>0.0</td>\n",
       "      <td>0.0</td>\n",
       "      <td>0.0</td>\n",
       "      <td>0.0</td>\n",
       "      <td>0.0</td>\n",
       "      <td>0.0</td>\n",
       "    </tr>\n",
       "    <tr>\n",
       "      <th>1</th>\n",
       "      <td>14920</td>\n",
       "      <td>73732</td>\n",
       "      <td>train</td>\n",
       "      <td>0.0</td>\n",
       "      <td>0.0</td>\n",
       "      <td>0.0</td>\n",
       "      <td>0.0</td>\n",
       "      <td>0.0</td>\n",
       "      <td>0.0</td>\n",
       "      <td>0.0</td>\n",
       "      <td>...</td>\n",
       "      <td>0.0</td>\n",
       "      <td>0.0</td>\n",
       "      <td>0.0</td>\n",
       "      <td>0.0</td>\n",
       "      <td>0.0</td>\n",
       "      <td>0.0</td>\n",
       "      <td>0.0</td>\n",
       "      <td>0.0</td>\n",
       "      <td>0.0</td>\n",
       "      <td>0.0</td>\n",
       "    </tr>\n",
       "    <tr>\n",
       "      <th>2</th>\n",
       "      <td>29990</td>\n",
       "      <td>65322</td>\n",
       "      <td>test</td>\n",
       "      <td>0.0</td>\n",
       "      <td>0.0</td>\n",
       "      <td>1.0</td>\n",
       "      <td>0.0</td>\n",
       "      <td>0.0</td>\n",
       "      <td>0.0</td>\n",
       "      <td>0.0</td>\n",
       "      <td>...</td>\n",
       "      <td>0.0</td>\n",
       "      <td>0.0</td>\n",
       "      <td>0.0</td>\n",
       "      <td>0.0</td>\n",
       "      <td>0.0</td>\n",
       "      <td>0.0</td>\n",
       "      <td>0.0</td>\n",
       "      <td>0.0</td>\n",
       "      <td>0.0</td>\n",
       "      <td>0.0</td>\n",
       "    </tr>\n",
       "    <tr>\n",
       "      <th>3</th>\n",
       "      <td>15000</td>\n",
       "      <td>61629</td>\n",
       "      <td>train</td>\n",
       "      <td>0.0</td>\n",
       "      <td>0.0</td>\n",
       "      <td>0.0</td>\n",
       "      <td>0.0</td>\n",
       "      <td>0.0</td>\n",
       "      <td>0.0</td>\n",
       "      <td>0.0</td>\n",
       "      <td>...</td>\n",
       "      <td>0.0</td>\n",
       "      <td>0.0</td>\n",
       "      <td>0.0</td>\n",
       "      <td>0.0</td>\n",
       "      <td>0.0</td>\n",
       "      <td>0.0</td>\n",
       "      <td>0.0</td>\n",
       "      <td>0.0</td>\n",
       "      <td>0.0</td>\n",
       "      <td>0.0</td>\n",
       "    </tr>\n",
       "    <tr>\n",
       "      <th>4</th>\n",
       "      <td>14805</td>\n",
       "      <td>101321</td>\n",
       "      <td>train</td>\n",
       "      <td>0.0</td>\n",
       "      <td>0.0</td>\n",
       "      <td>0.0</td>\n",
       "      <td>0.0</td>\n",
       "      <td>0.0</td>\n",
       "      <td>0.0</td>\n",
       "      <td>0.0</td>\n",
       "      <td>...</td>\n",
       "      <td>0.0</td>\n",
       "      <td>0.0</td>\n",
       "      <td>0.0</td>\n",
       "      <td>0.0</td>\n",
       "      <td>0.0</td>\n",
       "      <td>0.0</td>\n",
       "      <td>0.0</td>\n",
       "      <td>0.0</td>\n",
       "      <td>0.0</td>\n",
       "      <td>0.0</td>\n",
       "    </tr>\n",
       "    <tr>\n",
       "      <th>...</th>\n",
       "      <td>...</td>\n",
       "      <td>...</td>\n",
       "      <td>...</td>\n",
       "      <td>...</td>\n",
       "      <td>...</td>\n",
       "      <td>...</td>\n",
       "      <td>...</td>\n",
       "      <td>...</td>\n",
       "      <td>...</td>\n",
       "      <td>...</td>\n",
       "      <td>...</td>\n",
       "      <td>...</td>\n",
       "      <td>...</td>\n",
       "      <td>...</td>\n",
       "      <td>...</td>\n",
       "      <td>...</td>\n",
       "      <td>...</td>\n",
       "      <td>...</td>\n",
       "      <td>...</td>\n",
       "      <td>...</td>\n",
       "      <td>...</td>\n",
       "    </tr>\n",
       "    <tr>\n",
       "      <th>199995</th>\n",
       "      <td>18951</td>\n",
       "      <td>39260</td>\n",
       "      <td>train</td>\n",
       "      <td>0.0</td>\n",
       "      <td>0.0</td>\n",
       "      <td>0.0</td>\n",
       "      <td>0.0</td>\n",
       "      <td>0.0</td>\n",
       "      <td>0.0</td>\n",
       "      <td>0.0</td>\n",
       "      <td>...</td>\n",
       "      <td>0.0</td>\n",
       "      <td>0.0</td>\n",
       "      <td>0.0</td>\n",
       "      <td>0.0</td>\n",
       "      <td>0.0</td>\n",
       "      <td>0.0</td>\n",
       "      <td>0.0</td>\n",
       "      <td>0.0</td>\n",
       "      <td>0.0</td>\n",
       "      <td>0.0</td>\n",
       "    </tr>\n",
       "    <tr>\n",
       "      <th>199996</th>\n",
       "      <td>2500</td>\n",
       "      <td>119832</td>\n",
       "      <td>train</td>\n",
       "      <td>0.0</td>\n",
       "      <td>0.0</td>\n",
       "      <td>0.0</td>\n",
       "      <td>0.0</td>\n",
       "      <td>0.0</td>\n",
       "      <td>0.0</td>\n",
       "      <td>0.0</td>\n",
       "      <td>...</td>\n",
       "      <td>0.0</td>\n",
       "      <td>0.0</td>\n",
       "      <td>0.0</td>\n",
       "      <td>0.0</td>\n",
       "      <td>0.0</td>\n",
       "      <td>0.0</td>\n",
       "      <td>0.0</td>\n",
       "      <td>0.0</td>\n",
       "      <td>0.0</td>\n",
       "      <td>0.0</td>\n",
       "    </tr>\n",
       "    <tr>\n",
       "      <th>199997</th>\n",
       "      <td>13000</td>\n",
       "      <td>32178</td>\n",
       "      <td>train</td>\n",
       "      <td>0.0</td>\n",
       "      <td>0.0</td>\n",
       "      <td>0.0</td>\n",
       "      <td>0.0</td>\n",
       "      <td>0.0</td>\n",
       "      <td>0.0</td>\n",
       "      <td>0.0</td>\n",
       "      <td>...</td>\n",
       "      <td>0.0</td>\n",
       "      <td>0.0</td>\n",
       "      <td>0.0</td>\n",
       "      <td>0.0</td>\n",
       "      <td>0.0</td>\n",
       "      <td>0.0</td>\n",
       "      <td>0.0</td>\n",
       "      <td>0.0</td>\n",
       "      <td>0.0</td>\n",
       "      <td>0.0</td>\n",
       "    </tr>\n",
       "    <tr>\n",
       "      <th>199998</th>\n",
       "      <td>24488</td>\n",
       "      <td>49827</td>\n",
       "      <td>test</td>\n",
       "      <td>0.0</td>\n",
       "      <td>0.0</td>\n",
       "      <td>1.0</td>\n",
       "      <td>0.0</td>\n",
       "      <td>0.0</td>\n",
       "      <td>0.0</td>\n",
       "      <td>0.0</td>\n",
       "      <td>...</td>\n",
       "      <td>0.0</td>\n",
       "      <td>0.0</td>\n",
       "      <td>0.0</td>\n",
       "      <td>0.0</td>\n",
       "      <td>0.0</td>\n",
       "      <td>0.0</td>\n",
       "      <td>0.0</td>\n",
       "      <td>0.0</td>\n",
       "      <td>0.0</td>\n",
       "      <td>0.0</td>\n",
       "    </tr>\n",
       "    <tr>\n",
       "      <th>199999</th>\n",
       "      <td>18939</td>\n",
       "      <td>36856</td>\n",
       "      <td>train</td>\n",
       "      <td>0.0</td>\n",
       "      <td>1.0</td>\n",
       "      <td>0.0</td>\n",
       "      <td>0.0</td>\n",
       "      <td>0.0</td>\n",
       "      <td>0.0</td>\n",
       "      <td>0.0</td>\n",
       "      <td>...</td>\n",
       "      <td>0.0</td>\n",
       "      <td>0.0</td>\n",
       "      <td>0.0</td>\n",
       "      <td>0.0</td>\n",
       "      <td>0.0</td>\n",
       "      <td>0.0</td>\n",
       "      <td>0.0</td>\n",
       "      <td>0.0</td>\n",
       "      <td>0.0</td>\n",
       "      <td>0.0</td>\n",
       "    </tr>\n",
       "  </tbody>\n",
       "</table>\n",
       "<p>200000 rows × 65 columns</p>\n",
       "</div>"
      ],
      "text/plain": [
       "        Price  Mileage sample  \\\n",
       "0       13699    33452  train   \n",
       "1       14920    73732  train   \n",
       "2       29990    65322   test   \n",
       "3       15000    61629  train   \n",
       "4       14805   101321  train   \n",
       "...       ...      ...    ...   \n",
       "199995  18951    39260  train   \n",
       "199996   2500   119832  train   \n",
       "199997  13000    32178  train   \n",
       "199998  24488    49827   test   \n",
       "199999  18939    36856  train   \n",
       "\n",
       "        d_Body_Class_Sport_Utility_Vehicle__SUV__Multi_Purpose_Vehicle__MPV_  \\\n",
       "0                                                     0.0                      \n",
       "1                                                     0.0                      \n",
       "2                                                     0.0                      \n",
       "3                                                     0.0                      \n",
       "4                                                     0.0                      \n",
       "...                                                   ...                      \n",
       "199995                                                0.0                      \n",
       "199996                                                0.0                      \n",
       "199997                                                0.0                      \n",
       "199998                                                0.0                      \n",
       "199999                                                0.0                      \n",
       "\n",
       "        d_Body_Class_Wagon  d_Body_Class_Pickup  \\\n",
       "0                      0.0                  0.0   \n",
       "1                      0.0                  0.0   \n",
       "2                      0.0                  1.0   \n",
       "3                      0.0                  0.0   \n",
       "4                      0.0                  0.0   \n",
       "...                    ...                  ...   \n",
       "199995                 0.0                  0.0   \n",
       "199996                 0.0                  0.0   \n",
       "199997                 0.0                  0.0   \n",
       "199998                 0.0                  1.0   \n",
       "199999                 1.0                  0.0   \n",
       "\n",
       "        d_Body_Class_Hatchback_Liftback_Notchback  d_Body_Class_Coupe  \\\n",
       "0                                             0.0                 0.0   \n",
       "1                                             0.0                 0.0   \n",
       "2                                             0.0                 0.0   \n",
       "3                                             0.0                 0.0   \n",
       "4                                             0.0                 0.0   \n",
       "...                                           ...                 ...   \n",
       "199995                                        0.0                 0.0   \n",
       "199996                                        0.0                 0.0   \n",
       "199997                                        0.0                 0.0   \n",
       "199998                                        0.0                 0.0   \n",
       "199999                                        0.0                 0.0   \n",
       "\n",
       "        d_Body_Class_Minivan  d_Body_Class_Convertible_Cabriolet  ...  \\\n",
       "0                        0.0                                 0.0  ...   \n",
       "1                        0.0                                 0.0  ...   \n",
       "2                        0.0                                 0.0  ...   \n",
       "3                        0.0                                 0.0  ...   \n",
       "4                        0.0                                 0.0  ...   \n",
       "...                      ...                                 ...  ...   \n",
       "199995                   0.0                                 0.0  ...   \n",
       "199996                   0.0                                 0.0  ...   \n",
       "199997                   0.0                                 0.0  ...   \n",
       "199998                   0.0                                 0.0  ...   \n",
       "199999                   0.0                                 0.0  ...   \n",
       "\n",
       "        Make_Genesis  Make_Oldsmobile  Make_Aston  Make_Lamborghini  \\\n",
       "0                0.0              0.0         0.0               0.0   \n",
       "1                0.0              0.0         0.0               0.0   \n",
       "2                0.0              0.0         0.0               0.0   \n",
       "3                0.0              0.0         0.0               0.0   \n",
       "4                0.0              0.0         0.0               0.0   \n",
       "...              ...              ...         ...               ...   \n",
       "199995           0.0              0.0         0.0               0.0   \n",
       "199996           0.0              0.0         0.0               0.0   \n",
       "199997           0.0              0.0         0.0               0.0   \n",
       "199998           0.0              0.0         0.0               0.0   \n",
       "199999           0.0              0.0         0.0               0.0   \n",
       "\n",
       "        Make_Isuzu  Make_Rolls_Royce  Make_Alfa  Make_Plymouth  Make_McLaren  \\\n",
       "0              0.0               0.0        0.0            0.0           0.0   \n",
       "1              0.0               0.0        0.0            0.0           0.0   \n",
       "2              0.0               0.0        0.0            0.0           0.0   \n",
       "3              0.0               0.0        0.0            0.0           0.0   \n",
       "4              0.0               0.0        0.0            0.0           0.0   \n",
       "...            ...               ...        ...            ...           ...   \n",
       "199995         0.0               0.0        0.0            0.0           0.0   \n",
       "199996         0.0               0.0        0.0            0.0           0.0   \n",
       "199997         0.0               0.0        0.0            0.0           0.0   \n",
       "199998         0.0               0.0        0.0            0.0           0.0   \n",
       "199999         0.0               0.0        0.0            0.0           0.0   \n",
       "\n",
       "        Make_Lotus  \n",
       "0              0.0  \n",
       "1              0.0  \n",
       "2              0.0  \n",
       "3              0.0  \n",
       "4              0.0  \n",
       "...            ...  \n",
       "199995         0.0  \n",
       "199996         0.0  \n",
       "199997         0.0  \n",
       "199998         0.0  \n",
       "199999         0.0  \n",
       "\n",
       "[200000 rows x 65 columns]"
      ]
     },
     "execution_count": 28,
     "metadata": {},
     "output_type": "execute_result"
    }
   ],
   "source": [
    "# Realizamos OneHot Encoder a las columnas categóricas seleccionadas\n",
    "df_prep.one_hot_encoder(['d_Body_Class', 'Make'])\n",
    "df_prep.df"
   ]
  },
  {
   "cell_type": "code",
   "execution_count": 28,
   "metadata": {},
   "outputs": [],
   "source": [
    "# Removemos outliers (opcional)\n",
    "#df_prep.remove_outliers(['Price', 'Mileage'], multiplier=1.5)\n",
    "#df_prep.df"
   ]
  },
  {
   "cell_type": "code",
   "execution_count": 29,
   "metadata": {},
   "outputs": [
    {
     "data": {
      "text/html": [
       "<div>\n",
       "<style scoped>\n",
       "    .dataframe tbody tr th:only-of-type {\n",
       "        vertical-align: middle;\n",
       "    }\n",
       "\n",
       "    .dataframe tbody tr th {\n",
       "        vertical-align: top;\n",
       "    }\n",
       "\n",
       "    .dataframe thead th {\n",
       "        text-align: right;\n",
       "    }\n",
       "</style>\n",
       "<table border=\"1\" class=\"dataframe\">\n",
       "  <thead>\n",
       "    <tr style=\"text-align: right;\">\n",
       "      <th></th>\n",
       "      <th>Price</th>\n",
       "      <th>sample</th>\n",
       "      <th>d_Body_Class_Sport_Utility_Vehicle__SUV__Multi_Purpose_Vehicle__MPV_</th>\n",
       "      <th>d_Body_Class_Wagon</th>\n",
       "      <th>d_Body_Class_Pickup</th>\n",
       "      <th>d_Body_Class_Hatchback_Liftback_Notchback</th>\n",
       "      <th>d_Body_Class_Coupe</th>\n",
       "      <th>d_Body_Class_Minivan</th>\n",
       "      <th>d_Body_Class_Convertible_Cabriolet</th>\n",
       "      <th>d_Body_Class_Van</th>\n",
       "      <th>...</th>\n",
       "      <th>Make_Oldsmobile</th>\n",
       "      <th>Make_Aston</th>\n",
       "      <th>Make_Lamborghini</th>\n",
       "      <th>Make_Isuzu</th>\n",
       "      <th>Make_Rolls_Royce</th>\n",
       "      <th>Make_Alfa</th>\n",
       "      <th>Make_Plymouth</th>\n",
       "      <th>Make_McLaren</th>\n",
       "      <th>Make_Lotus</th>\n",
       "      <th>Mileage</th>\n",
       "    </tr>\n",
       "  </thead>\n",
       "  <tbody>\n",
       "    <tr>\n",
       "      <th>0</th>\n",
       "      <td>13699</td>\n",
       "      <td>train</td>\n",
       "      <td>0.0</td>\n",
       "      <td>0.0</td>\n",
       "      <td>0.0</td>\n",
       "      <td>0.0</td>\n",
       "      <td>0.0</td>\n",
       "      <td>0.0</td>\n",
       "      <td>0.0</td>\n",
       "      <td>0.0</td>\n",
       "      <td>...</td>\n",
       "      <td>0.0</td>\n",
       "      <td>0.0</td>\n",
       "      <td>0.0</td>\n",
       "      <td>0.0</td>\n",
       "      <td>0.0</td>\n",
       "      <td>0.0</td>\n",
       "      <td>0.0</td>\n",
       "      <td>0.0</td>\n",
       "      <td>0.0</td>\n",
       "      <td>-0.455180</td>\n",
       "    </tr>\n",
       "    <tr>\n",
       "      <th>1</th>\n",
       "      <td>14920</td>\n",
       "      <td>train</td>\n",
       "      <td>0.0</td>\n",
       "      <td>0.0</td>\n",
       "      <td>0.0</td>\n",
       "      <td>0.0</td>\n",
       "      <td>0.0</td>\n",
       "      <td>0.0</td>\n",
       "      <td>0.0</td>\n",
       "      <td>0.0</td>\n",
       "      <td>...</td>\n",
       "      <td>0.0</td>\n",
       "      <td>0.0</td>\n",
       "      <td>0.0</td>\n",
       "      <td>0.0</td>\n",
       "      <td>0.0</td>\n",
       "      <td>0.0</td>\n",
       "      <td>0.0</td>\n",
       "      <td>0.0</td>\n",
       "      <td>0.0</td>\n",
       "      <td>0.522134</td>\n",
       "    </tr>\n",
       "    <tr>\n",
       "      <th>2</th>\n",
       "      <td>29990</td>\n",
       "      <td>test</td>\n",
       "      <td>0.0</td>\n",
       "      <td>0.0</td>\n",
       "      <td>1.0</td>\n",
       "      <td>0.0</td>\n",
       "      <td>0.0</td>\n",
       "      <td>0.0</td>\n",
       "      <td>0.0</td>\n",
       "      <td>0.0</td>\n",
       "      <td>...</td>\n",
       "      <td>0.0</td>\n",
       "      <td>0.0</td>\n",
       "      <td>0.0</td>\n",
       "      <td>0.0</td>\n",
       "      <td>0.0</td>\n",
       "      <td>0.0</td>\n",
       "      <td>0.0</td>\n",
       "      <td>0.0</td>\n",
       "      <td>0.0</td>\n",
       "      <td>0.318082</td>\n",
       "    </tr>\n",
       "    <tr>\n",
       "      <th>3</th>\n",
       "      <td>15000</td>\n",
       "      <td>train</td>\n",
       "      <td>0.0</td>\n",
       "      <td>0.0</td>\n",
       "      <td>0.0</td>\n",
       "      <td>0.0</td>\n",
       "      <td>0.0</td>\n",
       "      <td>0.0</td>\n",
       "      <td>0.0</td>\n",
       "      <td>0.0</td>\n",
       "      <td>...</td>\n",
       "      <td>0.0</td>\n",
       "      <td>0.0</td>\n",
       "      <td>0.0</td>\n",
       "      <td>0.0</td>\n",
       "      <td>0.0</td>\n",
       "      <td>0.0</td>\n",
       "      <td>0.0</td>\n",
       "      <td>0.0</td>\n",
       "      <td>0.0</td>\n",
       "      <td>0.228479</td>\n",
       "    </tr>\n",
       "    <tr>\n",
       "      <th>4</th>\n",
       "      <td>14805</td>\n",
       "      <td>train</td>\n",
       "      <td>0.0</td>\n",
       "      <td>0.0</td>\n",
       "      <td>0.0</td>\n",
       "      <td>0.0</td>\n",
       "      <td>0.0</td>\n",
       "      <td>0.0</td>\n",
       "      <td>0.0</td>\n",
       "      <td>1.0</td>\n",
       "      <td>...</td>\n",
       "      <td>0.0</td>\n",
       "      <td>0.0</td>\n",
       "      <td>0.0</td>\n",
       "      <td>0.0</td>\n",
       "      <td>0.0</td>\n",
       "      <td>0.0</td>\n",
       "      <td>0.0</td>\n",
       "      <td>0.0</td>\n",
       "      <td>0.0</td>\n",
       "      <td>1.191527</td>\n",
       "    </tr>\n",
       "    <tr>\n",
       "      <th>...</th>\n",
       "      <td>...</td>\n",
       "      <td>...</td>\n",
       "      <td>...</td>\n",
       "      <td>...</td>\n",
       "      <td>...</td>\n",
       "      <td>...</td>\n",
       "      <td>...</td>\n",
       "      <td>...</td>\n",
       "      <td>...</td>\n",
       "      <td>...</td>\n",
       "      <td>...</td>\n",
       "      <td>...</td>\n",
       "      <td>...</td>\n",
       "      <td>...</td>\n",
       "      <td>...</td>\n",
       "      <td>...</td>\n",
       "      <td>...</td>\n",
       "      <td>...</td>\n",
       "      <td>...</td>\n",
       "      <td>...</td>\n",
       "      <td>...</td>\n",
       "    </tr>\n",
       "    <tr>\n",
       "      <th>199995</th>\n",
       "      <td>18951</td>\n",
       "      <td>train</td>\n",
       "      <td>0.0</td>\n",
       "      <td>0.0</td>\n",
       "      <td>0.0</td>\n",
       "      <td>0.0</td>\n",
       "      <td>0.0</td>\n",
       "      <td>0.0</td>\n",
       "      <td>0.0</td>\n",
       "      <td>0.0</td>\n",
       "      <td>...</td>\n",
       "      <td>0.0</td>\n",
       "      <td>0.0</td>\n",
       "      <td>0.0</td>\n",
       "      <td>0.0</td>\n",
       "      <td>0.0</td>\n",
       "      <td>0.0</td>\n",
       "      <td>0.0</td>\n",
       "      <td>0.0</td>\n",
       "      <td>0.0</td>\n",
       "      <td>-0.314261</td>\n",
       "    </tr>\n",
       "    <tr>\n",
       "      <th>199996</th>\n",
       "      <td>2500</td>\n",
       "      <td>train</td>\n",
       "      <td>0.0</td>\n",
       "      <td>0.0</td>\n",
       "      <td>0.0</td>\n",
       "      <td>0.0</td>\n",
       "      <td>0.0</td>\n",
       "      <td>0.0</td>\n",
       "      <td>0.0</td>\n",
       "      <td>1.0</td>\n",
       "      <td>...</td>\n",
       "      <td>0.0</td>\n",
       "      <td>0.0</td>\n",
       "      <td>0.0</td>\n",
       "      <td>0.0</td>\n",
       "      <td>0.0</td>\n",
       "      <td>0.0</td>\n",
       "      <td>0.0</td>\n",
       "      <td>0.0</td>\n",
       "      <td>0.0</td>\n",
       "      <td>1.640660</td>\n",
       "    </tr>\n",
       "    <tr>\n",
       "      <th>199997</th>\n",
       "      <td>13000</td>\n",
       "      <td>train</td>\n",
       "      <td>0.0</td>\n",
       "      <td>0.0</td>\n",
       "      <td>0.0</td>\n",
       "      <td>0.0</td>\n",
       "      <td>0.0</td>\n",
       "      <td>0.0</td>\n",
       "      <td>0.0</td>\n",
       "      <td>0.0</td>\n",
       "      <td>...</td>\n",
       "      <td>0.0</td>\n",
       "      <td>0.0</td>\n",
       "      <td>0.0</td>\n",
       "      <td>0.0</td>\n",
       "      <td>0.0</td>\n",
       "      <td>0.0</td>\n",
       "      <td>0.0</td>\n",
       "      <td>0.0</td>\n",
       "      <td>0.0</td>\n",
       "      <td>-0.486091</td>\n",
       "    </tr>\n",
       "    <tr>\n",
       "      <th>199998</th>\n",
       "      <td>24488</td>\n",
       "      <td>test</td>\n",
       "      <td>0.0</td>\n",
       "      <td>0.0</td>\n",
       "      <td>1.0</td>\n",
       "      <td>0.0</td>\n",
       "      <td>0.0</td>\n",
       "      <td>0.0</td>\n",
       "      <td>0.0</td>\n",
       "      <td>0.0</td>\n",
       "      <td>...</td>\n",
       "      <td>0.0</td>\n",
       "      <td>0.0</td>\n",
       "      <td>0.0</td>\n",
       "      <td>0.0</td>\n",
       "      <td>0.0</td>\n",
       "      <td>0.0</td>\n",
       "      <td>0.0</td>\n",
       "      <td>0.0</td>\n",
       "      <td>0.0</td>\n",
       "      <td>-0.057873</td>\n",
       "    </tr>\n",
       "    <tr>\n",
       "      <th>199999</th>\n",
       "      <td>18939</td>\n",
       "      <td>train</td>\n",
       "      <td>0.0</td>\n",
       "      <td>1.0</td>\n",
       "      <td>0.0</td>\n",
       "      <td>0.0</td>\n",
       "      <td>0.0</td>\n",
       "      <td>0.0</td>\n",
       "      <td>0.0</td>\n",
       "      <td>0.0</td>\n",
       "      <td>...</td>\n",
       "      <td>0.0</td>\n",
       "      <td>0.0</td>\n",
       "      <td>0.0</td>\n",
       "      <td>0.0</td>\n",
       "      <td>0.0</td>\n",
       "      <td>0.0</td>\n",
       "      <td>0.0</td>\n",
       "      <td>0.0</td>\n",
       "      <td>0.0</td>\n",
       "      <td>-0.372589</td>\n",
       "    </tr>\n",
       "  </tbody>\n",
       "</table>\n",
       "<p>200000 rows × 65 columns</p>\n",
       "</div>"
      ],
      "text/plain": [
       "        Price sample  \\\n",
       "0       13699  train   \n",
       "1       14920  train   \n",
       "2       29990   test   \n",
       "3       15000  train   \n",
       "4       14805  train   \n",
       "...       ...    ...   \n",
       "199995  18951  train   \n",
       "199996   2500  train   \n",
       "199997  13000  train   \n",
       "199998  24488   test   \n",
       "199999  18939  train   \n",
       "\n",
       "        d_Body_Class_Sport_Utility_Vehicle__SUV__Multi_Purpose_Vehicle__MPV_  \\\n",
       "0                                                     0.0                      \n",
       "1                                                     0.0                      \n",
       "2                                                     0.0                      \n",
       "3                                                     0.0                      \n",
       "4                                                     0.0                      \n",
       "...                                                   ...                      \n",
       "199995                                                0.0                      \n",
       "199996                                                0.0                      \n",
       "199997                                                0.0                      \n",
       "199998                                                0.0                      \n",
       "199999                                                0.0                      \n",
       "\n",
       "        d_Body_Class_Wagon  d_Body_Class_Pickup  \\\n",
       "0                      0.0                  0.0   \n",
       "1                      0.0                  0.0   \n",
       "2                      0.0                  1.0   \n",
       "3                      0.0                  0.0   \n",
       "4                      0.0                  0.0   \n",
       "...                    ...                  ...   \n",
       "199995                 0.0                  0.0   \n",
       "199996                 0.0                  0.0   \n",
       "199997                 0.0                  0.0   \n",
       "199998                 0.0                  1.0   \n",
       "199999                 1.0                  0.0   \n",
       "\n",
       "        d_Body_Class_Hatchback_Liftback_Notchback  d_Body_Class_Coupe  \\\n",
       "0                                             0.0                 0.0   \n",
       "1                                             0.0                 0.0   \n",
       "2                                             0.0                 0.0   \n",
       "3                                             0.0                 0.0   \n",
       "4                                             0.0                 0.0   \n",
       "...                                           ...                 ...   \n",
       "199995                                        0.0                 0.0   \n",
       "199996                                        0.0                 0.0   \n",
       "199997                                        0.0                 0.0   \n",
       "199998                                        0.0                 0.0   \n",
       "199999                                        0.0                 0.0   \n",
       "\n",
       "        d_Body_Class_Minivan  d_Body_Class_Convertible_Cabriolet  \\\n",
       "0                        0.0                                 0.0   \n",
       "1                        0.0                                 0.0   \n",
       "2                        0.0                                 0.0   \n",
       "3                        0.0                                 0.0   \n",
       "4                        0.0                                 0.0   \n",
       "...                      ...                                 ...   \n",
       "199995                   0.0                                 0.0   \n",
       "199996                   0.0                                 0.0   \n",
       "199997                   0.0                                 0.0   \n",
       "199998                   0.0                                 0.0   \n",
       "199999                   0.0                                 0.0   \n",
       "\n",
       "        d_Body_Class_Van  ...  Make_Oldsmobile  Make_Aston  Make_Lamborghini  \\\n",
       "0                    0.0  ...              0.0         0.0               0.0   \n",
       "1                    0.0  ...              0.0         0.0               0.0   \n",
       "2                    0.0  ...              0.0         0.0               0.0   \n",
       "3                    0.0  ...              0.0         0.0               0.0   \n",
       "4                    1.0  ...              0.0         0.0               0.0   \n",
       "...                  ...  ...              ...         ...               ...   \n",
       "199995               0.0  ...              0.0         0.0               0.0   \n",
       "199996               1.0  ...              0.0         0.0               0.0   \n",
       "199997               0.0  ...              0.0         0.0               0.0   \n",
       "199998               0.0  ...              0.0         0.0               0.0   \n",
       "199999               0.0  ...              0.0         0.0               0.0   \n",
       "\n",
       "        Make_Isuzu  Make_Rolls_Royce  Make_Alfa  Make_Plymouth  Make_McLaren  \\\n",
       "0              0.0               0.0        0.0            0.0           0.0   \n",
       "1              0.0               0.0        0.0            0.0           0.0   \n",
       "2              0.0               0.0        0.0            0.0           0.0   \n",
       "3              0.0               0.0        0.0            0.0           0.0   \n",
       "4              0.0               0.0        0.0            0.0           0.0   \n",
       "...            ...               ...        ...            ...           ...   \n",
       "199995         0.0               0.0        0.0            0.0           0.0   \n",
       "199996         0.0               0.0        0.0            0.0           0.0   \n",
       "199997         0.0               0.0        0.0            0.0           0.0   \n",
       "199998         0.0               0.0        0.0            0.0           0.0   \n",
       "199999         0.0               0.0        0.0            0.0           0.0   \n",
       "\n",
       "        Make_Lotus   Mileage  \n",
       "0              0.0 -0.455180  \n",
       "1              0.0  0.522134  \n",
       "2              0.0  0.318082  \n",
       "3              0.0  0.228479  \n",
       "4              0.0  1.191527  \n",
       "...            ...       ...  \n",
       "199995         0.0 -0.314261  \n",
       "199996         0.0  1.640660  \n",
       "199997         0.0 -0.486091  \n",
       "199998         0.0 -0.057873  \n",
       "199999         0.0 -0.372589  \n",
       "\n",
       "[200000 rows x 65 columns]"
      ]
     },
     "execution_count": 29,
     "metadata": {},
     "output_type": "execute_result"
    }
   ],
   "source": [
    "# Estandarizamos variables continuas seleccionadas\n",
    "df_prep.standard_scaler(['Mileage'])\n",
    "df_prep.df"
   ]
  },
  {
   "cell_type": "code",
   "execution_count": 30,
   "metadata": {},
   "outputs": [
    {
     "name": "stdout",
     "output_type": "stream",
     "text": [
      "Realizado en 1.0s\n"
     ]
    }
   ],
   "source": [
    "# Separar muestras según\n",
    "X_train, y_train, X_test, y_test = df_prep.to_train_test_samples('sample', 'Price')"
   ]
  },
  {
   "cell_type": "markdown",
   "metadata": {},
   "source": [
    "# 4. Modelamiento "
   ]
  },
  {
   "cell_type": "code",
   "execution_count": 31,
   "metadata": {},
   "outputs": [],
   "source": [
    "from sklearn.linear_model import LinearRegression\n",
    "from sklearn.linear_model import Ridge"
   ]
  },
  {
   "cell_type": "markdown",
   "metadata": {},
   "source": [
    "## 4.1 Ridge Regression"
   ]
  },
  {
   "cell_type": "code",
   "execution_count": 32,
   "metadata": {},
   "outputs": [
    {
     "name": "stdout",
     "output_type": "stream",
     "text": [
      "Mejores parámetros:\n",
      "{'alpha': 0, 'solver': 'sag'}\n",
      "\n",
      "Realizado en 119.0s\n"
     ]
    }
   ],
   "source": [
    "# Establecemos parámetros a evaluar en el modelo\n",
    "ridge_grid = {'alpha': [0, .1, .2],\n",
    "              'solver': ['sag', 'sparse_cg']}\n",
    "# Instanciamos Clase auxiliar para entrenar, ajustar y evaluar modelos de ML\n",
    "ridge_reg = MLModel(model=Ridge(fit_intercept=True))\n",
    "# Implementación del grid search\n",
    "ridge_reg.grid_search(X_train,\n",
    "                      y_train,\n",
    "                      param_grid=ridge_grid,\n",
    "                      n_jobs=-2,\n",
    "                      cv=cv)"
   ]
  },
  {
   "cell_type": "code",
   "execution_count": 33,
   "metadata": {},
   "outputs": [
    {
     "name": "stdout",
     "output_type": "stream",
     "text": [
      "mse: 78978965.057\n",
      "mae: 5408.43\n",
      "r2: 0.574\n"
     ]
    },
    {
     "data": {
      "text/plain": [
       "{'mse': 78978965.057, 'mae': 5408.43, 'r2': 0.574}"
      ]
     },
     "execution_count": 33,
     "metadata": {},
     "output_type": "execute_result"
    }
   ],
   "source": [
    "# Métricas\n",
    "ridge_reg.metrics(X_test, y_test)"
   ]
  },
  {
   "cell_type": "code",
   "execution_count": 32,
   "metadata": {},
   "outputs": [
    {
     "name": "stdout",
     "output_type": "stream",
     "text": [
      "Realizado en 1.0s\n"
     ]
    }
   ],
   "source": [
    "# Instancibest_modelos Clase auxiliar para entrenar, ajustar y evaluar modelos de ML\n",
    "linear2_reg = MLModel(model=LinearRegression(fit_intercept=True))\n",
    "# Implementación del grid search\n",
    "linear2_reg.fit(X_train, y_train)"
   ]
  },
  {
   "cell_type": "code",
   "execution_count": 33,
   "metadata": {},
   "outputs": [
    {
     "name": "stdout",
     "output_type": "stream",
     "text": [
      "mse: 75390964.789\n",
      "mae: 5440.391\n",
      "r2: 0.581\n"
     ]
    },
    {
     "data": {
      "text/plain": [
       "{'mse': 75390964.789, 'mae': 5440.391, 'r2': 0.581}"
      ]
     },
     "execution_count": 33,
     "metadata": {},
     "output_type": "execute_result"
    }
   ],
   "source": [
    "linear2_reg.metrics(X_test, y_test)"
   ]
  },
  {
   "cell_type": "markdown",
   "metadata": {},
   "source": [
    "## 4.2 LightGBM"
   ]
  },
  {
   "cell_type": "code",
   "execution_count": 34,
   "metadata": {},
   "outputs": [
    {
     "name": "stdout",
     "output_type": "stream",
     "text": [
      "Mejores parámetros:\n",
      "{'max_depth': 6, 'num_leaves': 50}\n",
      "\n",
      "Realizado en 18.0s\n"
     ]
    }
   ],
   "source": [
    "# Establecemos parámetros a evaluar en el modelo\n",
    "lgb_grid = {'max_depth': [3, 4, 5, 6], \n",
    "            'num_leaves': [30, 50, 60]}\n",
    "# Instanciamos Clase auxiliar para entrenar, ajustar y evaluar modelos de ML\n",
    "lgb_reg = MLModel(model=LGBMRegressor(n_jobs=1,\n",
    "                                      random_state=rd_seed))\n",
    "# Implementación del grid search\n",
    "lgb_reg.grid_search(X_train,\n",
    "                    y_train,\n",
    "                    param_grid=lgb_grid,\n",
    "                    n_jobs=-2,\n",
    "                    cv=cv)"
   ]
  },
  {
   "cell_type": "code",
   "execution_count": 35,
   "metadata": {},
   "outputs": [
    {
     "name": "stdout",
     "output_type": "stream",
     "text": [
      "mse: 72340632.311\n",
      "mae: 4913.508\n",
      "r2: 0.609\n"
     ]
    },
    {
     "data": {
      "text/plain": [
       "{'mse': 72340632.311, 'mae': 4913.508, 'r2': 0.609}"
      ]
     },
     "execution_count": 35,
     "metadata": {},
     "output_type": "execute_result"
    }
   ],
   "source": [
    "lgb_reg.metrics(X_test, y_test)"
   ]
  },
  {
   "cell_type": "markdown",
   "metadata": {},
   "source": [
    "## 4.3 XGBoost"
   ]
  },
  {
   "cell_type": "code",
   "execution_count": 41,
   "metadata": {},
   "outputs": [
    {
     "name": "stdout",
     "output_type": "stream",
     "text": [
      "Mejores parámetros:\n",
      "{'max_depth': 6, 'n_estimators': 70}\n",
      "\n",
      "Realizado en 589.0s\n"
     ]
    }
   ],
   "source": [
    "# Establecemos parámetros a evaluar en el modelo\n",
    "xgb_grid = {'max_depth': [3, 4, 5, 6], \n",
    "            'n_estimators': [50, 60, 70]}\n",
    "# Instanciamos Clase auxiliar para entrenar, ajustar y evaluar modelos de ML\n",
    "xgb_reg = MLModel(model=XGBRegressor(objective ='reg:squarederror',\n",
    "                                     n_jobs=1,\n",
    "                                     seed=rd_seed))\n",
    "# Implementación del grid search\n",
    "xgb_reg.grid_search(X_train,\n",
    "                    y_train,\n",
    "                    param_grid=xgb_grid,\n",
    "                    n_jobs=-2,\n",
    "                    cv=cv)"
   ]
  },
  {
   "cell_type": "code",
   "execution_count": 42,
   "metadata": {},
   "outputs": [
    {
     "name": "stdout",
     "output_type": "stream",
     "text": [
      "mse: 62266818.345\n",
      "mae: 5056.726\n",
      "r2: 0.654\n"
     ]
    },
    {
     "data": {
      "text/plain": [
       "{'mse': 62266818.345, 'mae': 5056.726, 'r2': 0.654}"
      ]
     },
     "execution_count": 42,
     "metadata": {},
     "output_type": "execute_result"
    }
   ],
   "source": [
    "# Métricas\n",
    "xgb_reg.metrics(X_test, y_test)"
   ]
  },
  {
   "cell_type": "markdown",
   "metadata": {},
   "source": [
    "## 4.4 RandomForest"
   ]
  },
  {
   "cell_type": "code",
   "execution_count": null,
   "metadata": {},
   "outputs": [],
   "source": [
    "# Establecemos parámetros a evaluar en el modelo\n",
    "rf_grid = {'n_estimators': [400, 500], \n",
    "           'max_depth': [3, 5, 7], \n",
    "           }\n",
    "# Instanciamos Clase auxiliar para entrenar, ajustar y evaluar modelos de ML\n",
    "rf_reg = MLModel(model=RandomForestRegressor(oob_score=True,\n",
    "                                             n_jobs=1,\n",
    "                                             random_state=rd_seed))\n",
    "# Implementación del grid search\n",
    "rf_reg.grid_search(X_train,\n",
    "                    y_train,\n",
    "                    param_grid=rf_grid,\n",
    "                    cv=cv)"
   ]
  },
  {
   "cell_type": "code",
   "execution_count": null,
   "metadata": {},
   "outputs": [],
   "source": [
    "rf_reg.metrics(X_test, y_test)"
   ]
  }
 ],
 "metadata": {
  "kernelspec": {
   "display_name": "Python 3",
   "language": "python",
   "name": "python3"
  },
  "language_info": {
   "codemirror_mode": {
    "name": "ipython",
    "version": 3
   },
   "file_extension": ".py",
   "mimetype": "text/x-python",
   "name": "python",
   "nbconvert_exporter": "python",
   "pygments_lexer": "ipython3",
   "version": "3.7.4"
  }
 },
 "nbformat": 4,
 "nbformat_minor": 4
}
