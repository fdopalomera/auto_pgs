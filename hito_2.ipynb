{
 "cells": [
  {
   "cell_type": "markdown",
   "metadata": {},
   "source": [
    "# Implementación \n",
    "### Equipo: "
   ]
  },
  {
   "cell_type": "code",
   "execution_count": 1,
   "metadata": {},
   "outputs": [],
   "source": [
    "# Parámetros generales del notebook\n",
    "ruta_bases = 'bases/'\n",
    "sample_size = 200000\n",
    "cv = 3"
   ]
  },
  {
   "cell_type": "code",
   "execution_count": 2,
   "metadata": {},
   "outputs": [],
   "source": [
    "# Preparación ambiente AWS SageMaker\n",
    "#!pip install --upgrade pip\n",
    "#!pip install xgboost\n",
    "#!pip install lightgbm\n",
    "#!pip install -U scikit_learn\n",
    "#!pip install -U pandas"
   ]
  },
  {
   "cell_type": "code",
   "execution_count": 5,
   "metadata": {},
   "outputs": [
    {
     "name": "stderr",
     "output_type": "stream",
     "text": [
      "/Users/fernando/miniconda3/lib/python3.7/importlib/_bootstrap.py:219: RuntimeWarning: numpy.ufunc size changed, may indicate binary incompatibility. Expected 192 from C header, got 216 from PyObject\n",
      "  return f(*args, **kwds)\n",
      "/Users/fernando/miniconda3/lib/python3.7/importlib/_bootstrap.py:219: RuntimeWarning: numpy.ufunc size changed, may indicate binary incompatibility. Expected 192 from C header, got 216 from PyObject\n",
      "  return f(*args, **kwds)\n",
      "/Users/fernando/miniconda3/lib/python3.7/importlib/_bootstrap.py:219: RuntimeWarning: numpy.ufunc size changed, may indicate binary incompatibility. Expected 192 from C header, got 216 from PyObject\n",
      "  return f(*args, **kwds)\n"
     ]
    }
   ],
   "source": [
    "# Importación de librerías\n",
    "import json\n",
    "import glob\n",
    "import pandas as pd\n",
    "import numpy as np\n",
    "#import missingno as msgno\n",
    "import matplotlib.pyplot as plt\n",
    "import funciones as fn\n",
    "import seaborn as sns\n",
    "import warnings\n",
    "warnings.filterwarnings('ignore')\n",
    "from ml_classes import PrepML, MLModel\n",
    "from matplotlib.pyplot import rcParams\n",
    "from sklearn.ensemble import RandomForestRegressor\n",
    "from xgboost import XGBRegressor\n",
    "from lightgbm import LGBMRegressor\n",
    "from sklearn.linear_model import Ridge,SGDRegressor\n",
    "from lib.get_nhtsa_json import get_nhtsa_json"
   ]
  },
  {
   "cell_type": "code",
   "execution_count": 6,
   "metadata": {},
   "outputs": [],
   "source": [
    "# Parámetros generales para plots\n",
    "plt.style.use('ggplot')\n",
    "plt.rcParams['figure.figsize'] = 15, 8\n",
    "# Semilla pseudo-aleatoria\n",
    "rd_seed = 1234"
   ]
  },
  {
   "cell_type": "markdown",
   "metadata": {},
   "source": [
    "# 0. Obtener la información"
   ]
  },
  {
   "cell_type": "markdown",
   "metadata": {},
   "source": [
    "Esta es una demostración del proceso realizado por `get_features.py` para poder obtener información relacionada con el `Vin` de los vehículos a través de una API. El proceso consite en los siguientes pasos:\n",
    "* 1.- Extraer todos los `Vin` de la base completa `true_car_listings.csv`.\n",
    "* 2.- Requerir a través de la Api 'chunks' de 50 registros por cada petición.\n",
    "* 3.- Guardar en la memoria el json en formato texto, agregando 50 registros por cada iteración.\n",
    "* 4.- Una vez completada las iteraciones guardar en formato json todos los registros requeridos."
   ]
  },
  {
   "cell_type": "code",
   "execution_count": null,
   "metadata": {},
   "outputs": [],
   "source": [
    "# Requerimos todos los 'Vin'    \n",
    "all_vins = pd.read_csv(f'{ruta_bases}true_car_listings.csv')['Vin'].to_list()\n",
    "# Parámetros de muestra\n",
    "start = 8\n",
    "end = 8\n",
    "\n",
    "json_text = '['\n",
    "for i in range(start, end+1):\n",
    "    # Generar requerimiento con 50 registros Vin\n",
    "    vin_list = all_vins[50 * (i - 1):50 * i]\n",
    "    json_text += get_nhtsa_json(vin_list, i)\n",
    "\n",
    "# Cerrar lista de Json\n",
    "json_text = json_text[:-2] + ']'\n",
    "# Exportar resultados a archivo json\n",
    "with open(f'api_test/data_{start}_{end}.json', 'w') as json_file:\n",
    "    json_file.write(json_text)"
   ]
  },
  {
   "cell_type": "markdown",
   "metadata": {},
   "source": [
    "Paralelamente, en base a una muestra de la base total, se definió el primer filtro de variables requeridas a través la API: que tengan menos del 10% de datos perdidos, las cuales se presentan a continaución:"
   ]
  },
  {
   "cell_type": "code",
   "execution_count": null,
   "metadata": {},
   "outputs": [],
   "source": [
    "cols = ['AirBagLocFront', 'BodyClass', 'BusFloorConfigType', 'BusType',\n",
    "       'CustomMotorcycleType', 'DisplacementCC', 'DisplacementCI',\n",
    "       'DisplacementL', 'Doors', 'EngineCylinders', 'EngineHP', 'EngineKW',\n",
    "       'ErrorCode', 'ErrorText', 'FuelTypePrimary', 'Make', 'Manufacturer',\n",
    "       'ManufacturerId', 'Model', 'ModelYear', 'MotorcycleChassisType',\n",
    "       'MotorcycleSuspensionType', 'PlantCity', 'PlantCountry', 'TPMS',\n",
    "       'TrailerBodyType', 'TrailerType', 'VIN', 'VehicleType']"
   ]
  },
  {
   "cell_type": "markdown",
   "metadata": {},
   "source": [
    "Con estas columnas seleccionadas, se procede a importar los archivos json (varios en el proceso original) para luego mapearlos para retraer solo aquellas columnas, creando un DataFrame con ellas y luego exportarlas en un csv."
   ]
  },
  {
   "cell_type": "code",
   "execution_count": null,
   "metadata": {},
   "outputs": [],
   "source": [
    "# Importación de archivo json\n",
    "filenames = glob.glob('api_test/*.json')\n",
    "json_list = []\n",
    "\n",
    "for filename in filenames:\n",
    "    print(filename)\n",
    "    with open(filename, 'r') as file:\n",
    "        # Mapeamos considerando solo las columnas seleccionadas\n",
    "        data = list(map(fn.get_info, \n",
    "                        json.loads(file.read())\n",
    "                       )\n",
    "                   )\n",
    "    json_list += data\n",
    "\n",
    "# Creación y exortación de DataFrame con features extraídos\n",
    "data_json = pd.DataFrame(data=json_list,\n",
    "                         columns=cols)\n",
    "data_json.to_csv('api_test/data_api.csv')"
   ]
  },
  {
   "cell_type": "markdown",
   "metadata": {},
   "source": [
    "# 1. Creación del Dataset "
   ]
  },
  {
   "cell_type": "markdown",
   "metadata": {},
   "source": [
    "## 1.1 Bases Originales"
   ]
  },
  {
   "cell_type": "code",
   "execution_count": 7,
   "metadata": {},
   "outputs": [
    {
     "name": "stdout",
     "output_type": "stream",
     "text": [
      "Base Train: (639145, 8)\n",
      "Base Test: (212977, 8)\n"
     ]
    }
   ],
   "source": [
    "# Importación de las bases para muestras de entrenamiento y prueba\n",
    "df_train = pd.read_csv(f'{ruta_bases}true_cars_train.csv',\n",
    "                       delimiter=\";\")\n",
    "df_test = pd.read_csv(f'{ruta_bases}true_cars_test.csv',\n",
    "                      delimiter=\";\")\n",
    "# Dimensiones de las bases\n",
    "print(f'Base Train: {df_train.shape}\\nBase Test: {df_test.shape}')"
   ]
  },
  {
   "cell_type": "code",
   "execution_count": 8,
   "metadata": {},
   "outputs": [
    {
     "name": "stdout",
     "output_type": "stream",
     "text": [
      "<class 'pandas.core.frame.DataFrame'>\n",
      "RangeIndex: 639145 entries, 0 to 639144\n",
      "Data columns (total 8 columns):\n",
      "Price      639145 non-null int64\n",
      "Year       639145 non-null int64\n",
      "Mileage    639145 non-null int64\n",
      "City       639145 non-null object\n",
      "State      639145 non-null object\n",
      "Vin        639145 non-null object\n",
      "Make       639145 non-null object\n",
      "Model      639145 non-null object\n",
      "dtypes: int64(3), object(5)\n",
      "memory usage: 39.0+ MB\n"
     ]
    }
   ],
   "source": [
    "# Información general de muestra de entrenamiento\n",
    "df_train.info()"
   ]
  },
  {
   "cell_type": "code",
   "execution_count": 9,
   "metadata": {},
   "outputs": [],
   "source": [
    "# Creación de atributo 'sample'\n",
    "df_train['sample'] = 'train'\n",
    "df_test['sample'] = 'test'"
   ]
  },
  {
   "cell_type": "code",
   "execution_count": 10,
   "metadata": {},
   "outputs": [
    {
     "name": "stdout",
     "output_type": "stream",
     "text": [
      "Base Data: (852122, 9)\n"
     ]
    }
   ],
   "source": [
    "# Unión de ambas bases\n",
    "df_data = pd.concat([df_train, df_test])\n",
    "print(f'Base Data: {df_data.shape}')"
   ]
  },
  {
   "cell_type": "markdown",
   "metadata": {},
   "source": [
    "## 1.2 Base API"
   ]
  },
  {
   "cell_type": "code",
   "execution_count": 11,
   "metadata": {},
   "outputs": [
    {
     "name": "stdout",
     "output_type": "stream",
     "text": [
      "Base API: (846562, 29)\n"
     ]
    }
   ],
   "source": [
    "# Importación de la base extraída por el requerimiento a la api\n",
    "df_api = pd.read_csv(f'{ruta_bases}api_features.csv').drop(columns='Unnamed: 0')\n",
    "print(f'Base API: {df_api.shape}')"
   ]
  },
  {
   "cell_type": "code",
   "execution_count": 12,
   "metadata": {},
   "outputs": [
    {
     "name": "stdout",
     "output_type": "stream",
     "text": [
      "<class 'pandas.core.frame.DataFrame'>\n",
      "RangeIndex: 846562 entries, 0 to 846561\n",
      "Data columns (total 29 columns):\n",
      "AirBagLocFront              797265 non-null object\n",
      "BodyClass                   845535 non-null object\n",
      "BusFloorConfigType          843524 non-null object\n",
      "BusType                     843524 non-null object\n",
      "CustomMotorcycleType        846525 non-null object\n",
      "DisplacementCC              839096 non-null float64\n",
      "DisplacementCI              839096 non-null float64\n",
      "DisplacementL               839096 non-null float64\n",
      "Doors                       739918 non-null float64\n",
      "EngineCylinders             735744 non-null object\n",
      "EngineHP                    380764 non-null object\n",
      "EngineKW                    380764 non-null object\n",
      "ErrorCode                   846550 non-null object\n",
      "ErrorText                   846550 non-null object\n",
      "FuelTypePrimary             789859 non-null object\n",
      "Make                        846525 non-null object\n",
      "Manufacturer                846525 non-null object\n",
      "ManufacturerId              846525 non-null float64\n",
      "Model                       846044 non-null object\n",
      "ModelYear                   846522 non-null float64\n",
      "MotorcycleChassisType       846525 non-null object\n",
      "MotorcycleSuspensionType    846525 non-null object\n",
      "PlantCity                   694188 non-null object\n",
      "PlantCountry                798155 non-null object\n",
      "TPMS                        674177 non-null object\n",
      "TrailerBodyType             846524 non-null object\n",
      "TrailerType                 846524 non-null object\n",
      "VIN                         846550 non-null object\n",
      "VehicleType                 846525 non-null object\n",
      "dtypes: float64(6), object(23)\n",
      "memory usage: 187.3+ MB\n"
     ]
    }
   ],
   "source": [
    "df_api.info()"
   ]
  },
  {
   "cell_type": "code",
   "execution_count": 13,
   "metadata": {},
   "outputs": [],
   "source": [
    "# Identificar columnas con solo valores \"Not Applicable\" \n",
    "notapp_series = df_api\\\n",
    "                    .isin(['Not Applicable'])\\\n",
    "                    .sum()\n",
    "cols2drop = list(notapp_series[notapp_series > 1].index)"
   ]
  },
  {
   "cell_type": "code",
   "execution_count": 14,
   "metadata": {},
   "outputs": [],
   "source": [
    "# Identificar columnas con más de un 15% de datos perdidos\n",
    "null_series = df_api\\\n",
    "                .isnull()\\\n",
    "                .sum()\\\n",
    "                /df_api.shape[0] \n",
    "cols2drop += list(null_series[null_series > .15].index)"
   ]
  },
  {
   "cell_type": "code",
   "execution_count": 15,
   "metadata": {},
   "outputs": [],
   "source": [
    "# Columnas repetidas en la data original\n",
    "cols2drop += ['ModelYear', 'Make']"
   ]
  },
  {
   "cell_type": "code",
   "execution_count": 16,
   "metadata": {},
   "outputs": [
    {
     "name": "stdout",
     "output_type": "stream",
     "text": [
      "Base API: (846562, 16)\n"
     ]
    }
   ],
   "source": [
    "# Borrar aquellas columnas \n",
    "df_api = df_api.drop(columns=cols2drop)\n",
    "print(f'Base API: {df_api.shape}')"
   ]
  },
  {
   "cell_type": "code",
   "execution_count": 17,
   "metadata": {},
   "outputs": [],
   "source": [
    "df_api=df_api.rename(columns={\"AirBagLocFront\":\"Airag_LocFront\",\n",
    "                        \"BodyClass\":\"d_Body_Class\",\n",
    "                        \"DisplacementCC\":\"d_DisplacementCC\",\n",
    "                        \"DisplacementCI\":\"d_DisplacementCI\",\n",
    "                        \"DisplacementL\":\"d_DisplacementL\",\n",
    "                        \"Doors\":\"d_Doors\",\n",
    "                        \"EngineCylinders \":\"d_EngineCylinders\",\n",
    "                        \"EngineHP\":\"d_EngineHP\",\n",
    "                        \"EngineKW\":\"d_EngineKW\",\n",
    "                        \"ErrorCode\":\"d_ErrorCode\",\n",
    "                        \"ErrorText\":\"d_ErrorText\",\n",
    "                        \"FuelTypePrimary\":\"d_FuelTypePrimary\",\n",
    "                        \"Make\":\"d_Make\",\n",
    "                        \"Manufacturer\":\"d_Manufacturer\",\n",
    "                        \"ManufacturerId\":\"d_ManufacturerId\",\n",
    "                        \"Model\":\"d_Model\",\n",
    "                        \"ModelYear\":\"d_ModelYear\",\n",
    "                        \"PlantCity\":\"d_PlantCity\",\n",
    "                        \"PlantCountry\":\"d_PlantCountry\",\n",
    "                        \"TPMS\":\"d_TPMS\",\n",
    "                        \"VIN\":\"Vin\",\n",
    "                        \"VehicleType\":\"d_VehicleType\"})"
   ]
  },
  {
   "cell_type": "markdown",
   "metadata": {},
   "source": [
    "## 1.3 Unión de Bases"
   ]
  },
  {
   "cell_type": "code",
   "execution_count": 18,
   "metadata": {},
   "outputs": [
    {
     "name": "stdout",
     "output_type": "stream",
     "text": [
      "Dataset: (846644, 24)\n"
     ]
    }
   ],
   "source": [
    "# Unión de bases\n",
    "df = pd.merge(left=df_data, \n",
    "              right=df_api, \n",
    "              how='inner',\n",
    "              on='Vin')\n",
    "# Dimensiones de la base\n",
    "print(f'Dataset: {df.shape}')"
   ]
  },
  {
   "cell_type": "code",
   "execution_count": 19,
   "metadata": {},
   "outputs": [
    {
     "name": "stdout",
     "output_type": "stream",
     "text": [
      "<class 'pandas.core.frame.DataFrame'>\n",
      "Int64Index: 846644 entries, 0 to 846643\n",
      "Data columns (total 24 columns):\n",
      "Price                846644 non-null int64\n",
      "Year                 846644 non-null int64\n",
      "Mileage              846644 non-null int64\n",
      "City                 846644 non-null object\n",
      "State                846644 non-null object\n",
      "Vin                  846644 non-null object\n",
      "Make                 846644 non-null object\n",
      "Model                846644 non-null object\n",
      "sample               846644 non-null object\n",
      "Airag_LocFront       797359 non-null object\n",
      "d_Body_Class         845629 non-null object\n",
      "d_DisplacementCC     839190 non-null float64\n",
      "d_DisplacementCI     839190 non-null float64\n",
      "d_DisplacementL      839190 non-null float64\n",
      "d_Doors              740010 non-null float64\n",
      "EngineCylinders      735838 non-null object\n",
      "d_ErrorCode          846644 non-null object\n",
      "d_ErrorText          846644 non-null object\n",
      "d_FuelTypePrimary    789951 non-null object\n",
      "d_Manufacturer       846619 non-null object\n",
      "d_ManufacturerId     846619 non-null float64\n",
      "d_Model              846138 non-null object\n",
      "d_PlantCountry       798249 non-null object\n",
      "d_VehicleType        846619 non-null object\n",
      "dtypes: float64(5), int64(3), object(16)\n",
      "memory usage: 161.5+ MB\n"
     ]
    }
   ],
   "source": [
    "# Información general de la base\n",
    "df.info()"
   ]
  },
  {
   "cell_type": "code",
   "execution_count": 20,
   "metadata": {},
   "outputs": [],
   "source": [
    "# Filtrar 30 modelos\n",
    "modelos = df['Make'].value_counts()\n",
    "df = df[df['Make'].isin(modelos[modelos > 30].index)]"
   ]
  },
  {
   "cell_type": "code",
   "execution_count": 21,
   "metadata": {},
   "outputs": [],
   "source": [
    "clase = df['d_Body_Class'].value_counts()\n",
    "df = df[df['d_Body_Class'].isin(clase[clase > 1000].index)]"
   ]
  },
  {
   "cell_type": "code",
   "execution_count": 22,
   "metadata": {},
   "outputs": [],
   "source": [
    "df['Age'] = df['Year'] - 2018"
   ]
  },
  {
   "cell_type": "markdown",
   "metadata": {},
   "source": [
    "# 2. Análisis exploratorio de datos"
   ]
  },
  {
   "cell_type": "markdown",
   "metadata": {},
   "source": [
    "## 2.1 Análisis de los datos perdidos"
   ]
  },
  {
   "cell_type": "code",
   "execution_count": 23,
   "metadata": {},
   "outputs": [],
   "source": [
    "#msgno.matrix(df)"
   ]
  },
  {
   "cell_type": "markdown",
   "metadata": {},
   "source": [
    "# 3. Preproceso"
   ]
  },
  {
   "cell_type": "code",
   "execution_count": 24,
   "metadata": {},
   "outputs": [],
   "source": [
    "# Liberar Espacio Memoria\n",
    "del df_api\n",
    "del df_data\n",
    "del df_train\n",
    "del df_test"
   ]
  },
  {
   "cell_type": "code",
   "execution_count": 25,
   "metadata": {},
   "outputs": [],
   "source": [
    "# Selección de variables para modelos\n",
    "select_vars = ['Price', 'Mileage', 'sample', 'd_Body_Class', 'Make', 'Age']\n",
    "#sample_size = df[select_vars].shape[0]"
   ]
  },
  {
   "cell_type": "code",
   "execution_count": 26,
   "metadata": {},
   "outputs": [],
   "source": [
    "# Muestra aleatoria\n",
    "df_sample = df[select_vars]\\\n",
    "                .sample(sample_size)\\\n",
    "                .reset_index(drop=True)\\"
   ]
  },
  {
   "cell_type": "code",
   "execution_count": 29,
   "metadata": {},
   "outputs": [],
   "source": [
    "# Instanciar clase para realizar preproceso\n",
    "df_prep = PrepML(df_sample)"
   ]
  },
  {
   "cell_type": "code",
   "execution_count": 31,
   "metadata": {},
   "outputs": [
    {
     "data": {
      "text/html": [
       "<div>\n",
       "<style scoped>\n",
       "    .dataframe tbody tr th:only-of-type {\n",
       "        vertical-align: middle;\n",
       "    }\n",
       "\n",
       "    .dataframe tbody tr th {\n",
       "        vertical-align: top;\n",
       "    }\n",
       "\n",
       "    .dataframe thead th {\n",
       "        text-align: right;\n",
       "    }\n",
       "</style>\n",
       "<table border=\"1\" class=\"dataframe\">\n",
       "  <thead>\n",
       "    <tr style=\"text-align: right;\">\n",
       "      <th></th>\n",
       "      <th>Price</th>\n",
       "      <th>Mileage</th>\n",
       "      <th>sample</th>\n",
       "      <th>Age</th>\n",
       "      <th>d_Body_Class_Sport_Utility_Vehicle__SUV__Multi_Purpose_Vehicle__MPV_</th>\n",
       "      <th>d_Body_Class_Pickup</th>\n",
       "      <th>d_Body_Class_Wagon</th>\n",
       "      <th>d_Body_Class_Hatchback_Liftback_Notchback</th>\n",
       "      <th>d_Body_Class_Coupe</th>\n",
       "      <th>d_Body_Class_Minivan</th>\n",
       "      <th>...</th>\n",
       "      <th>Make_Genesis</th>\n",
       "      <th>Make_Aston</th>\n",
       "      <th>Make_Oldsmobile</th>\n",
       "      <th>Make_Lamborghini</th>\n",
       "      <th>Make_Rolls_Royce</th>\n",
       "      <th>Make_Plymouth</th>\n",
       "      <th>Make_Isuzu</th>\n",
       "      <th>Make_Alfa</th>\n",
       "      <th>Make_McLaren</th>\n",
       "      <th>Make_Lotus</th>\n",
       "    </tr>\n",
       "  </thead>\n",
       "  <tbody>\n",
       "    <tr>\n",
       "      <th>0</th>\n",
       "      <td>14097</td>\n",
       "      <td>44948</td>\n",
       "      <td>train</td>\n",
       "      <td>-4</td>\n",
       "      <td>1.0</td>\n",
       "      <td>0.0</td>\n",
       "      <td>0.0</td>\n",
       "      <td>0.0</td>\n",
       "      <td>0.0</td>\n",
       "      <td>0.0</td>\n",
       "      <td>...</td>\n",
       "      <td>0.0</td>\n",
       "      <td>0.0</td>\n",
       "      <td>0.0</td>\n",
       "      <td>0.0</td>\n",
       "      <td>0.0</td>\n",
       "      <td>0.0</td>\n",
       "      <td>0.0</td>\n",
       "      <td>0.0</td>\n",
       "      <td>0.0</td>\n",
       "      <td>0.0</td>\n",
       "    </tr>\n",
       "    <tr>\n",
       "      <th>1</th>\n",
       "      <td>18399</td>\n",
       "      <td>41491</td>\n",
       "      <td>train</td>\n",
       "      <td>-9</td>\n",
       "      <td>1.0</td>\n",
       "      <td>0.0</td>\n",
       "      <td>0.0</td>\n",
       "      <td>0.0</td>\n",
       "      <td>0.0</td>\n",
       "      <td>0.0</td>\n",
       "      <td>...</td>\n",
       "      <td>0.0</td>\n",
       "      <td>0.0</td>\n",
       "      <td>0.0</td>\n",
       "      <td>0.0</td>\n",
       "      <td>0.0</td>\n",
       "      <td>0.0</td>\n",
       "      <td>0.0</td>\n",
       "      <td>0.0</td>\n",
       "      <td>0.0</td>\n",
       "      <td>0.0</td>\n",
       "    </tr>\n",
       "    <tr>\n",
       "      <th>2</th>\n",
       "      <td>31995</td>\n",
       "      <td>33070</td>\n",
       "      <td>train</td>\n",
       "      <td>-4</td>\n",
       "      <td>0.0</td>\n",
       "      <td>1.0</td>\n",
       "      <td>0.0</td>\n",
       "      <td>0.0</td>\n",
       "      <td>0.0</td>\n",
       "      <td>0.0</td>\n",
       "      <td>...</td>\n",
       "      <td>0.0</td>\n",
       "      <td>0.0</td>\n",
       "      <td>0.0</td>\n",
       "      <td>0.0</td>\n",
       "      <td>0.0</td>\n",
       "      <td>0.0</td>\n",
       "      <td>0.0</td>\n",
       "      <td>0.0</td>\n",
       "      <td>0.0</td>\n",
       "      <td>0.0</td>\n",
       "    </tr>\n",
       "    <tr>\n",
       "      <th>3</th>\n",
       "      <td>19995</td>\n",
       "      <td>85952</td>\n",
       "      <td>train</td>\n",
       "      <td>-5</td>\n",
       "      <td>1.0</td>\n",
       "      <td>0.0</td>\n",
       "      <td>0.0</td>\n",
       "      <td>0.0</td>\n",
       "      <td>0.0</td>\n",
       "      <td>0.0</td>\n",
       "      <td>...</td>\n",
       "      <td>0.0</td>\n",
       "      <td>0.0</td>\n",
       "      <td>0.0</td>\n",
       "      <td>0.0</td>\n",
       "      <td>0.0</td>\n",
       "      <td>0.0</td>\n",
       "      <td>0.0</td>\n",
       "      <td>0.0</td>\n",
       "      <td>0.0</td>\n",
       "      <td>0.0</td>\n",
       "    </tr>\n",
       "    <tr>\n",
       "      <th>4</th>\n",
       "      <td>12988</td>\n",
       "      <td>7512</td>\n",
       "      <td>train</td>\n",
       "      <td>-1</td>\n",
       "      <td>0.0</td>\n",
       "      <td>0.0</td>\n",
       "      <td>0.0</td>\n",
       "      <td>0.0</td>\n",
       "      <td>0.0</td>\n",
       "      <td>0.0</td>\n",
       "      <td>...</td>\n",
       "      <td>0.0</td>\n",
       "      <td>0.0</td>\n",
       "      <td>0.0</td>\n",
       "      <td>0.0</td>\n",
       "      <td>0.0</td>\n",
       "      <td>0.0</td>\n",
       "      <td>0.0</td>\n",
       "      <td>0.0</td>\n",
       "      <td>0.0</td>\n",
       "      <td>0.0</td>\n",
       "    </tr>\n",
       "    <tr>\n",
       "      <th>...</th>\n",
       "      <td>...</td>\n",
       "      <td>...</td>\n",
       "      <td>...</td>\n",
       "      <td>...</td>\n",
       "      <td>...</td>\n",
       "      <td>...</td>\n",
       "      <td>...</td>\n",
       "      <td>...</td>\n",
       "      <td>...</td>\n",
       "      <td>...</td>\n",
       "      <td>...</td>\n",
       "      <td>...</td>\n",
       "      <td>...</td>\n",
       "      <td>...</td>\n",
       "      <td>...</td>\n",
       "      <td>...</td>\n",
       "      <td>...</td>\n",
       "      <td>...</td>\n",
       "      <td>...</td>\n",
       "      <td>...</td>\n",
       "      <td>...</td>\n",
       "    </tr>\n",
       "    <tr>\n",
       "      <th>199995</th>\n",
       "      <td>11415</td>\n",
       "      <td>106608</td>\n",
       "      <td>train</td>\n",
       "      <td>-5</td>\n",
       "      <td>1.0</td>\n",
       "      <td>0.0</td>\n",
       "      <td>0.0</td>\n",
       "      <td>0.0</td>\n",
       "      <td>0.0</td>\n",
       "      <td>0.0</td>\n",
       "      <td>...</td>\n",
       "      <td>0.0</td>\n",
       "      <td>0.0</td>\n",
       "      <td>0.0</td>\n",
       "      <td>0.0</td>\n",
       "      <td>0.0</td>\n",
       "      <td>0.0</td>\n",
       "      <td>0.0</td>\n",
       "      <td>0.0</td>\n",
       "      <td>0.0</td>\n",
       "      <td>0.0</td>\n",
       "    </tr>\n",
       "    <tr>\n",
       "      <th>199996</th>\n",
       "      <td>18533</td>\n",
       "      <td>17143</td>\n",
       "      <td>train</td>\n",
       "      <td>-1</td>\n",
       "      <td>0.0</td>\n",
       "      <td>0.0</td>\n",
       "      <td>0.0</td>\n",
       "      <td>0.0</td>\n",
       "      <td>0.0</td>\n",
       "      <td>0.0</td>\n",
       "      <td>...</td>\n",
       "      <td>0.0</td>\n",
       "      <td>0.0</td>\n",
       "      <td>0.0</td>\n",
       "      <td>0.0</td>\n",
       "      <td>0.0</td>\n",
       "      <td>0.0</td>\n",
       "      <td>0.0</td>\n",
       "      <td>0.0</td>\n",
       "      <td>0.0</td>\n",
       "      <td>0.0</td>\n",
       "    </tr>\n",
       "    <tr>\n",
       "      <th>199997</th>\n",
       "      <td>44999</td>\n",
       "      <td>41096</td>\n",
       "      <td>train</td>\n",
       "      <td>-3</td>\n",
       "      <td>1.0</td>\n",
       "      <td>0.0</td>\n",
       "      <td>0.0</td>\n",
       "      <td>0.0</td>\n",
       "      <td>0.0</td>\n",
       "      <td>0.0</td>\n",
       "      <td>...</td>\n",
       "      <td>0.0</td>\n",
       "      <td>0.0</td>\n",
       "      <td>0.0</td>\n",
       "      <td>0.0</td>\n",
       "      <td>0.0</td>\n",
       "      <td>0.0</td>\n",
       "      <td>0.0</td>\n",
       "      <td>0.0</td>\n",
       "      <td>0.0</td>\n",
       "      <td>0.0</td>\n",
       "    </tr>\n",
       "    <tr>\n",
       "      <th>199998</th>\n",
       "      <td>21750</td>\n",
       "      <td>25811</td>\n",
       "      <td>train</td>\n",
       "      <td>-2</td>\n",
       "      <td>0.0</td>\n",
       "      <td>0.0</td>\n",
       "      <td>0.0</td>\n",
       "      <td>0.0</td>\n",
       "      <td>0.0</td>\n",
       "      <td>0.0</td>\n",
       "      <td>...</td>\n",
       "      <td>0.0</td>\n",
       "      <td>0.0</td>\n",
       "      <td>0.0</td>\n",
       "      <td>0.0</td>\n",
       "      <td>0.0</td>\n",
       "      <td>0.0</td>\n",
       "      <td>0.0</td>\n",
       "      <td>0.0</td>\n",
       "      <td>0.0</td>\n",
       "      <td>0.0</td>\n",
       "    </tr>\n",
       "    <tr>\n",
       "      <th>199999</th>\n",
       "      <td>37900</td>\n",
       "      <td>3652</td>\n",
       "      <td>train</td>\n",
       "      <td>-1</td>\n",
       "      <td>0.0</td>\n",
       "      <td>1.0</td>\n",
       "      <td>0.0</td>\n",
       "      <td>0.0</td>\n",
       "      <td>0.0</td>\n",
       "      <td>0.0</td>\n",
       "      <td>...</td>\n",
       "      <td>0.0</td>\n",
       "      <td>0.0</td>\n",
       "      <td>0.0</td>\n",
       "      <td>0.0</td>\n",
       "      <td>0.0</td>\n",
       "      <td>0.0</td>\n",
       "      <td>0.0</td>\n",
       "      <td>0.0</td>\n",
       "      <td>0.0</td>\n",
       "      <td>0.0</td>\n",
       "    </tr>\n",
       "  </tbody>\n",
       "</table>\n",
       "<p>200000 rows × 66 columns</p>\n",
       "</div>"
      ],
      "text/plain": [
       "        Price  Mileage sample  Age  \\\n",
       "0       14097    44948  train   -4   \n",
       "1       18399    41491  train   -9   \n",
       "2       31995    33070  train   -4   \n",
       "3       19995    85952  train   -5   \n",
       "4       12988     7512  train   -1   \n",
       "...       ...      ...    ...  ...   \n",
       "199995  11415   106608  train   -5   \n",
       "199996  18533    17143  train   -1   \n",
       "199997  44999    41096  train   -3   \n",
       "199998  21750    25811  train   -2   \n",
       "199999  37900     3652  train   -1   \n",
       "\n",
       "        d_Body_Class_Sport_Utility_Vehicle__SUV__Multi_Purpose_Vehicle__MPV_  \\\n",
       "0                                                     1.0                      \n",
       "1                                                     1.0                      \n",
       "2                                                     0.0                      \n",
       "3                                                     1.0                      \n",
       "4                                                     0.0                      \n",
       "...                                                   ...                      \n",
       "199995                                                1.0                      \n",
       "199996                                                0.0                      \n",
       "199997                                                1.0                      \n",
       "199998                                                0.0                      \n",
       "199999                                                0.0                      \n",
       "\n",
       "        d_Body_Class_Pickup  d_Body_Class_Wagon  \\\n",
       "0                       0.0                 0.0   \n",
       "1                       0.0                 0.0   \n",
       "2                       1.0                 0.0   \n",
       "3                       0.0                 0.0   \n",
       "4                       0.0                 0.0   \n",
       "...                     ...                 ...   \n",
       "199995                  0.0                 0.0   \n",
       "199996                  0.0                 0.0   \n",
       "199997                  0.0                 0.0   \n",
       "199998                  0.0                 0.0   \n",
       "199999                  1.0                 0.0   \n",
       "\n",
       "        d_Body_Class_Hatchback_Liftback_Notchback  d_Body_Class_Coupe  \\\n",
       "0                                             0.0                 0.0   \n",
       "1                                             0.0                 0.0   \n",
       "2                                             0.0                 0.0   \n",
       "3                                             0.0                 0.0   \n",
       "4                                             0.0                 0.0   \n",
       "...                                           ...                 ...   \n",
       "199995                                        0.0                 0.0   \n",
       "199996                                        0.0                 0.0   \n",
       "199997                                        0.0                 0.0   \n",
       "199998                                        0.0                 0.0   \n",
       "199999                                        0.0                 0.0   \n",
       "\n",
       "        d_Body_Class_Minivan  ...  Make_Genesis  Make_Aston  Make_Oldsmobile  \\\n",
       "0                        0.0  ...           0.0         0.0              0.0   \n",
       "1                        0.0  ...           0.0         0.0              0.0   \n",
       "2                        0.0  ...           0.0         0.0              0.0   \n",
       "3                        0.0  ...           0.0         0.0              0.0   \n",
       "4                        0.0  ...           0.0         0.0              0.0   \n",
       "...                      ...  ...           ...         ...              ...   \n",
       "199995                   0.0  ...           0.0         0.0              0.0   \n",
       "199996                   0.0  ...           0.0         0.0              0.0   \n",
       "199997                   0.0  ...           0.0         0.0              0.0   \n",
       "199998                   0.0  ...           0.0         0.0              0.0   \n",
       "199999                   0.0  ...           0.0         0.0              0.0   \n",
       "\n",
       "        Make_Lamborghini  Make_Rolls_Royce  Make_Plymouth  Make_Isuzu  \\\n",
       "0                    0.0               0.0            0.0         0.0   \n",
       "1                    0.0               0.0            0.0         0.0   \n",
       "2                    0.0               0.0            0.0         0.0   \n",
       "3                    0.0               0.0            0.0         0.0   \n",
       "4                    0.0               0.0            0.0         0.0   \n",
       "...                  ...               ...            ...         ...   \n",
       "199995               0.0               0.0            0.0         0.0   \n",
       "199996               0.0               0.0            0.0         0.0   \n",
       "199997               0.0               0.0            0.0         0.0   \n",
       "199998               0.0               0.0            0.0         0.0   \n",
       "199999               0.0               0.0            0.0         0.0   \n",
       "\n",
       "        Make_Alfa  Make_McLaren  Make_Lotus  \n",
       "0             0.0           0.0         0.0  \n",
       "1             0.0           0.0         0.0  \n",
       "2             0.0           0.0         0.0  \n",
       "3             0.0           0.0         0.0  \n",
       "4             0.0           0.0         0.0  \n",
       "...           ...           ...         ...  \n",
       "199995        0.0           0.0         0.0  \n",
       "199996        0.0           0.0         0.0  \n",
       "199997        0.0           0.0         0.0  \n",
       "199998        0.0           0.0         0.0  \n",
       "199999        0.0           0.0         0.0  \n",
       "\n",
       "[200000 rows x 66 columns]"
      ]
     },
     "execution_count": 31,
     "metadata": {},
     "output_type": "execute_result"
    }
   ],
   "source": [
    "# Realizamos OneHot Encoder a las columnas categóricas seleccionadas\n",
    "df_prep.one_hot_encoder(['d_Body_Class', 'Make'], drop_first=True)\n",
    "df_prep.df"
   ]
  },
  {
   "cell_type": "code",
   "execution_count": 32,
   "metadata": {},
   "outputs": [],
   "source": [
    "# Removemos outliers (opcional)\n",
    "#df_prep.remove_outliers(['Price', 'Mileage'], multiplier=1.5)\n",
    "#df_prep.df"
   ]
  },
  {
   "cell_type": "code",
   "execution_count": 33,
   "metadata": {},
   "outputs": [
    {
     "data": {
      "text/html": [
       "<div>\n",
       "<style scoped>\n",
       "    .dataframe tbody tr th:only-of-type {\n",
       "        vertical-align: middle;\n",
       "    }\n",
       "\n",
       "    .dataframe tbody tr th {\n",
       "        vertical-align: top;\n",
       "    }\n",
       "\n",
       "    .dataframe thead th {\n",
       "        text-align: right;\n",
       "    }\n",
       "</style>\n",
       "<table border=\"1\" class=\"dataframe\">\n",
       "  <thead>\n",
       "    <tr style=\"text-align: right;\">\n",
       "      <th></th>\n",
       "      <th>Price</th>\n",
       "      <th>sample</th>\n",
       "      <th>d_Body_Class_Sport_Utility_Vehicle__SUV__Multi_Purpose_Vehicle__MPV_</th>\n",
       "      <th>d_Body_Class_Pickup</th>\n",
       "      <th>d_Body_Class_Wagon</th>\n",
       "      <th>d_Body_Class_Hatchback_Liftback_Notchback</th>\n",
       "      <th>d_Body_Class_Coupe</th>\n",
       "      <th>d_Body_Class_Minivan</th>\n",
       "      <th>d_Body_Class_Convertible_Cabriolet</th>\n",
       "      <th>d_Body_Class_Van</th>\n",
       "      <th>...</th>\n",
       "      <th>Make_Oldsmobile</th>\n",
       "      <th>Make_Lamborghini</th>\n",
       "      <th>Make_Rolls_Royce</th>\n",
       "      <th>Make_Plymouth</th>\n",
       "      <th>Make_Isuzu</th>\n",
       "      <th>Make_Alfa</th>\n",
       "      <th>Make_McLaren</th>\n",
       "      <th>Make_Lotus</th>\n",
       "      <th>Mileage</th>\n",
       "      <th>Age</th>\n",
       "    </tr>\n",
       "  </thead>\n",
       "  <tbody>\n",
       "    <tr>\n",
       "      <th>0</th>\n",
       "      <td>14097</td>\n",
       "      <td>train</td>\n",
       "      <td>1.0</td>\n",
       "      <td>0.0</td>\n",
       "      <td>0.0</td>\n",
       "      <td>0.0</td>\n",
       "      <td>0.0</td>\n",
       "      <td>0.0</td>\n",
       "      <td>0.0</td>\n",
       "      <td>0.0</td>\n",
       "      <td>...</td>\n",
       "      <td>0.0</td>\n",
       "      <td>0.0</td>\n",
       "      <td>0.0</td>\n",
       "      <td>0.0</td>\n",
       "      <td>0.0</td>\n",
       "      <td>0.0</td>\n",
       "      <td>0.0</td>\n",
       "      <td>0.0</td>\n",
       "      <td>-0.178517</td>\n",
       "      <td>0.203434</td>\n",
       "    </tr>\n",
       "    <tr>\n",
       "      <th>1</th>\n",
       "      <td>18399</td>\n",
       "      <td>train</td>\n",
       "      <td>1.0</td>\n",
       "      <td>0.0</td>\n",
       "      <td>0.0</td>\n",
       "      <td>0.0</td>\n",
       "      <td>0.0</td>\n",
       "      <td>0.0</td>\n",
       "      <td>0.0</td>\n",
       "      <td>0.0</td>\n",
       "      <td>...</td>\n",
       "      <td>0.0</td>\n",
       "      <td>0.0</td>\n",
       "      <td>0.0</td>\n",
       "      <td>0.0</td>\n",
       "      <td>0.0</td>\n",
       "      <td>0.0</td>\n",
       "      <td>0.0</td>\n",
       "      <td>0.0</td>\n",
       "      <td>-0.262239</td>\n",
       "      <td>-1.267961</td>\n",
       "    </tr>\n",
       "    <tr>\n",
       "      <th>2</th>\n",
       "      <td>31995</td>\n",
       "      <td>train</td>\n",
       "      <td>0.0</td>\n",
       "      <td>1.0</td>\n",
       "      <td>0.0</td>\n",
       "      <td>0.0</td>\n",
       "      <td>0.0</td>\n",
       "      <td>0.0</td>\n",
       "      <td>0.0</td>\n",
       "      <td>0.0</td>\n",
       "      <td>...</td>\n",
       "      <td>0.0</td>\n",
       "      <td>0.0</td>\n",
       "      <td>0.0</td>\n",
       "      <td>0.0</td>\n",
       "      <td>0.0</td>\n",
       "      <td>0.0</td>\n",
       "      <td>0.0</td>\n",
       "      <td>0.0</td>\n",
       "      <td>-0.466179</td>\n",
       "      <td>0.203434</td>\n",
       "    </tr>\n",
       "    <tr>\n",
       "      <th>3</th>\n",
       "      <td>19995</td>\n",
       "      <td>train</td>\n",
       "      <td>1.0</td>\n",
       "      <td>0.0</td>\n",
       "      <td>0.0</td>\n",
       "      <td>0.0</td>\n",
       "      <td>0.0</td>\n",
       "      <td>0.0</td>\n",
       "      <td>0.0</td>\n",
       "      <td>0.0</td>\n",
       "      <td>...</td>\n",
       "      <td>0.0</td>\n",
       "      <td>0.0</td>\n",
       "      <td>0.0</td>\n",
       "      <td>0.0</td>\n",
       "      <td>0.0</td>\n",
       "      <td>0.0</td>\n",
       "      <td>0.0</td>\n",
       "      <td>0.0</td>\n",
       "      <td>0.814519</td>\n",
       "      <td>-0.090845</td>\n",
       "    </tr>\n",
       "    <tr>\n",
       "      <th>4</th>\n",
       "      <td>12988</td>\n",
       "      <td>train</td>\n",
       "      <td>0.0</td>\n",
       "      <td>0.0</td>\n",
       "      <td>0.0</td>\n",
       "      <td>0.0</td>\n",
       "      <td>0.0</td>\n",
       "      <td>0.0</td>\n",
       "      <td>0.0</td>\n",
       "      <td>0.0</td>\n",
       "      <td>...</td>\n",
       "      <td>0.0</td>\n",
       "      <td>0.0</td>\n",
       "      <td>0.0</td>\n",
       "      <td>0.0</td>\n",
       "      <td>0.0</td>\n",
       "      <td>0.0</td>\n",
       "      <td>0.0</td>\n",
       "      <td>0.0</td>\n",
       "      <td>-1.085143</td>\n",
       "      <td>1.086270</td>\n",
       "    </tr>\n",
       "    <tr>\n",
       "      <th>...</th>\n",
       "      <td>...</td>\n",
       "      <td>...</td>\n",
       "      <td>...</td>\n",
       "      <td>...</td>\n",
       "      <td>...</td>\n",
       "      <td>...</td>\n",
       "      <td>...</td>\n",
       "      <td>...</td>\n",
       "      <td>...</td>\n",
       "      <td>...</td>\n",
       "      <td>...</td>\n",
       "      <td>...</td>\n",
       "      <td>...</td>\n",
       "      <td>...</td>\n",
       "      <td>...</td>\n",
       "      <td>...</td>\n",
       "      <td>...</td>\n",
       "      <td>...</td>\n",
       "      <td>...</td>\n",
       "      <td>...</td>\n",
       "      <td>...</td>\n",
       "    </tr>\n",
       "    <tr>\n",
       "      <th>199995</th>\n",
       "      <td>11415</td>\n",
       "      <td>train</td>\n",
       "      <td>1.0</td>\n",
       "      <td>0.0</td>\n",
       "      <td>0.0</td>\n",
       "      <td>0.0</td>\n",
       "      <td>0.0</td>\n",
       "      <td>0.0</td>\n",
       "      <td>0.0</td>\n",
       "      <td>0.0</td>\n",
       "      <td>...</td>\n",
       "      <td>0.0</td>\n",
       "      <td>0.0</td>\n",
       "      <td>0.0</td>\n",
       "      <td>0.0</td>\n",
       "      <td>0.0</td>\n",
       "      <td>0.0</td>\n",
       "      <td>0.0</td>\n",
       "      <td>0.0</td>\n",
       "      <td>1.314766</td>\n",
       "      <td>-0.090845</td>\n",
       "    </tr>\n",
       "    <tr>\n",
       "      <th>199996</th>\n",
       "      <td>18533</td>\n",
       "      <td>train</td>\n",
       "      <td>0.0</td>\n",
       "      <td>0.0</td>\n",
       "      <td>0.0</td>\n",
       "      <td>0.0</td>\n",
       "      <td>0.0</td>\n",
       "      <td>0.0</td>\n",
       "      <td>0.0</td>\n",
       "      <td>0.0</td>\n",
       "      <td>...</td>\n",
       "      <td>0.0</td>\n",
       "      <td>0.0</td>\n",
       "      <td>0.0</td>\n",
       "      <td>0.0</td>\n",
       "      <td>0.0</td>\n",
       "      <td>0.0</td>\n",
       "      <td>0.0</td>\n",
       "      <td>0.0</td>\n",
       "      <td>-0.851900</td>\n",
       "      <td>1.086270</td>\n",
       "    </tr>\n",
       "    <tr>\n",
       "      <th>199997</th>\n",
       "      <td>44999</td>\n",
       "      <td>train</td>\n",
       "      <td>1.0</td>\n",
       "      <td>0.0</td>\n",
       "      <td>0.0</td>\n",
       "      <td>0.0</td>\n",
       "      <td>0.0</td>\n",
       "      <td>0.0</td>\n",
       "      <td>0.0</td>\n",
       "      <td>0.0</td>\n",
       "      <td>...</td>\n",
       "      <td>0.0</td>\n",
       "      <td>0.0</td>\n",
       "      <td>0.0</td>\n",
       "      <td>0.0</td>\n",
       "      <td>0.0</td>\n",
       "      <td>0.0</td>\n",
       "      <td>0.0</td>\n",
       "      <td>0.0</td>\n",
       "      <td>-0.271805</td>\n",
       "      <td>0.497712</td>\n",
       "    </tr>\n",
       "    <tr>\n",
       "      <th>199998</th>\n",
       "      <td>21750</td>\n",
       "      <td>train</td>\n",
       "      <td>0.0</td>\n",
       "      <td>0.0</td>\n",
       "      <td>0.0</td>\n",
       "      <td>0.0</td>\n",
       "      <td>0.0</td>\n",
       "      <td>0.0</td>\n",
       "      <td>0.0</td>\n",
       "      <td>0.0</td>\n",
       "      <td>...</td>\n",
       "      <td>0.0</td>\n",
       "      <td>0.0</td>\n",
       "      <td>0.0</td>\n",
       "      <td>0.0</td>\n",
       "      <td>0.0</td>\n",
       "      <td>0.0</td>\n",
       "      <td>0.0</td>\n",
       "      <td>0.0</td>\n",
       "      <td>-0.641978</td>\n",
       "      <td>0.791991</td>\n",
       "    </tr>\n",
       "    <tr>\n",
       "      <th>199999</th>\n",
       "      <td>37900</td>\n",
       "      <td>train</td>\n",
       "      <td>0.0</td>\n",
       "      <td>1.0</td>\n",
       "      <td>0.0</td>\n",
       "      <td>0.0</td>\n",
       "      <td>0.0</td>\n",
       "      <td>0.0</td>\n",
       "      <td>0.0</td>\n",
       "      <td>0.0</td>\n",
       "      <td>...</td>\n",
       "      <td>0.0</td>\n",
       "      <td>0.0</td>\n",
       "      <td>0.0</td>\n",
       "      <td>0.0</td>\n",
       "      <td>0.0</td>\n",
       "      <td>0.0</td>\n",
       "      <td>0.0</td>\n",
       "      <td>0.0</td>\n",
       "      <td>-1.178625</td>\n",
       "      <td>1.086270</td>\n",
       "    </tr>\n",
       "  </tbody>\n",
       "</table>\n",
       "<p>200000 rows × 66 columns</p>\n",
       "</div>"
      ],
      "text/plain": [
       "        Price sample  \\\n",
       "0       14097  train   \n",
       "1       18399  train   \n",
       "2       31995  train   \n",
       "3       19995  train   \n",
       "4       12988  train   \n",
       "...       ...    ...   \n",
       "199995  11415  train   \n",
       "199996  18533  train   \n",
       "199997  44999  train   \n",
       "199998  21750  train   \n",
       "199999  37900  train   \n",
       "\n",
       "        d_Body_Class_Sport_Utility_Vehicle__SUV__Multi_Purpose_Vehicle__MPV_  \\\n",
       "0                                                     1.0                      \n",
       "1                                                     1.0                      \n",
       "2                                                     0.0                      \n",
       "3                                                     1.0                      \n",
       "4                                                     0.0                      \n",
       "...                                                   ...                      \n",
       "199995                                                1.0                      \n",
       "199996                                                0.0                      \n",
       "199997                                                1.0                      \n",
       "199998                                                0.0                      \n",
       "199999                                                0.0                      \n",
       "\n",
       "        d_Body_Class_Pickup  d_Body_Class_Wagon  \\\n",
       "0                       0.0                 0.0   \n",
       "1                       0.0                 0.0   \n",
       "2                       1.0                 0.0   \n",
       "3                       0.0                 0.0   \n",
       "4                       0.0                 0.0   \n",
       "...                     ...                 ...   \n",
       "199995                  0.0                 0.0   \n",
       "199996                  0.0                 0.0   \n",
       "199997                  0.0                 0.0   \n",
       "199998                  0.0                 0.0   \n",
       "199999                  1.0                 0.0   \n",
       "\n",
       "        d_Body_Class_Hatchback_Liftback_Notchback  d_Body_Class_Coupe  \\\n",
       "0                                             0.0                 0.0   \n",
       "1                                             0.0                 0.0   \n",
       "2                                             0.0                 0.0   \n",
       "3                                             0.0                 0.0   \n",
       "4                                             0.0                 0.0   \n",
       "...                                           ...                 ...   \n",
       "199995                                        0.0                 0.0   \n",
       "199996                                        0.0                 0.0   \n",
       "199997                                        0.0                 0.0   \n",
       "199998                                        0.0                 0.0   \n",
       "199999                                        0.0                 0.0   \n",
       "\n",
       "        d_Body_Class_Minivan  d_Body_Class_Convertible_Cabriolet  \\\n",
       "0                        0.0                                 0.0   \n",
       "1                        0.0                                 0.0   \n",
       "2                        0.0                                 0.0   \n",
       "3                        0.0                                 0.0   \n",
       "4                        0.0                                 0.0   \n",
       "...                      ...                                 ...   \n",
       "199995                   0.0                                 0.0   \n",
       "199996                   0.0                                 0.0   \n",
       "199997                   0.0                                 0.0   \n",
       "199998                   0.0                                 0.0   \n",
       "199999                   0.0                                 0.0   \n",
       "\n",
       "        d_Body_Class_Van  ...  Make_Oldsmobile  Make_Lamborghini  \\\n",
       "0                    0.0  ...              0.0               0.0   \n",
       "1                    0.0  ...              0.0               0.0   \n",
       "2                    0.0  ...              0.0               0.0   \n",
       "3                    0.0  ...              0.0               0.0   \n",
       "4                    0.0  ...              0.0               0.0   \n",
       "...                  ...  ...              ...               ...   \n",
       "199995               0.0  ...              0.0               0.0   \n",
       "199996               0.0  ...              0.0               0.0   \n",
       "199997               0.0  ...              0.0               0.0   \n",
       "199998               0.0  ...              0.0               0.0   \n",
       "199999               0.0  ...              0.0               0.0   \n",
       "\n",
       "        Make_Rolls_Royce  Make_Plymouth  Make_Isuzu  Make_Alfa  Make_McLaren  \\\n",
       "0                    0.0            0.0         0.0        0.0           0.0   \n",
       "1                    0.0            0.0         0.0        0.0           0.0   \n",
       "2                    0.0            0.0         0.0        0.0           0.0   \n",
       "3                    0.0            0.0         0.0        0.0           0.0   \n",
       "4                    0.0            0.0         0.0        0.0           0.0   \n",
       "...                  ...            ...         ...        ...           ...   \n",
       "199995               0.0            0.0         0.0        0.0           0.0   \n",
       "199996               0.0            0.0         0.0        0.0           0.0   \n",
       "199997               0.0            0.0         0.0        0.0           0.0   \n",
       "199998               0.0            0.0         0.0        0.0           0.0   \n",
       "199999               0.0            0.0         0.0        0.0           0.0   \n",
       "\n",
       "        Make_Lotus   Mileage       Age  \n",
       "0              0.0 -0.178517  0.203434  \n",
       "1              0.0 -0.262239 -1.267961  \n",
       "2              0.0 -0.466179  0.203434  \n",
       "3              0.0  0.814519 -0.090845  \n",
       "4              0.0 -1.085143  1.086270  \n",
       "...            ...       ...       ...  \n",
       "199995         0.0  1.314766 -0.090845  \n",
       "199996         0.0 -0.851900  1.086270  \n",
       "199997         0.0 -0.271805  0.497712  \n",
       "199998         0.0 -0.641978  0.791991  \n",
       "199999         0.0 -1.178625  1.086270  \n",
       "\n",
       "[200000 rows x 66 columns]"
      ]
     },
     "execution_count": 33,
     "metadata": {},
     "output_type": "execute_result"
    }
   ],
   "source": [
    "# Estandarizamos variables continuas seleccionadas\n",
    "df_prep.standard_scaler(['Mileage', 'Age'])\n",
    "df_prep.df"
   ]
  },
  {
   "cell_type": "code",
   "execution_count": 34,
   "metadata": {},
   "outputs": [
    {
     "name": "stdout",
     "output_type": "stream",
     "text": [
      "Realizado en 1.0s\n"
     ]
    }
   ],
   "source": [
    "# Separar muestras según\n",
    "X_train, y_train, X_test, y_test = df_prep.to_train_test_samples('sample', 'Price')"
   ]
  },
  {
   "cell_type": "markdown",
   "metadata": {},
   "source": [
    "# 4. Modelamiento "
   ]
  },
  {
   "cell_type": "code",
   "execution_count": 42,
   "metadata": {},
   "outputs": [
    {
     "name": "stdout",
     "output_type": "stream",
     "text": [
      "Realizado en 1.0s\n"
     ]
    }
   ],
   "source": [
    "# Test\n",
    "from sklearn.linear_model import LinearRegression\n",
    "linear_reg = MLModel(LinearRegression())\n",
    "linear_reg.fit(X_train, y_train)"
   ]
  },
  {
   "cell_type": "code",
   "execution_count": 44,
   "metadata": {},
   "outputs": [
    {
     "name": "stdout",
     "output_type": "stream",
     "text": [
      "rmse: 8424.046\n",
      "mae: 5164.762\n",
      "r2: 0.597\n"
     ]
    },
    {
     "data": {
      "text/plain": [
       "{'rmse': 8424.046, 'mae': 5164.762, 'r2': 0.597}"
      ]
     },
     "execution_count": 44,
     "metadata": {},
     "output_type": "execute_result"
    }
   ],
   "source": [
    "linear_reg.metrics(X_test, y_test)"
   ]
  },
  {
   "cell_type": "markdown",
   "metadata": {},
   "source": [
    "## 4.1 Ridge Regression"
   ]
  },
  {
   "cell_type": "code",
   "execution_count": 48,
   "metadata": {},
   "outputs": [
    {
     "name": "stdout",
     "output_type": "stream",
     "text": [
      "Mejores parámetros:\n",
      "{'alpha': 0.001, 'solver': 'sag'}\n",
      "\n",
      "Realizado en 103.0s\n"
     ]
    }
   ],
   "source": [
    "# Establecemos parámetros a evaluar en el modelo\n",
    "ridge_grid = {'alpha': [0, .001, 0.0001],\n",
    "              'solver': ['sag', 'sparse_cg']}\n",
    "# Instanciamos Clase auxiliar para entrenar, ajustar y evaluar modelos de ML\n",
    "ridge_reg = MLModel(model=Ridge(fit_intercept=True))\n",
    "# Implementación del grid search\n",
    "ridge_reg.grid_search(X_train,\n",
    "                      y_train,\n",
    "                      param_grid=ridge_grid,\n",
    "                      n_jobs=-2,\n",
    "                      cv=cv)"
   ]
  },
  {
   "cell_type": "code",
   "execution_count": 49,
   "metadata": {},
   "outputs": [
    {
     "name": "stdout",
     "output_type": "stream",
     "text": [
      "rmse: 8463.538\n",
      "mae: 5190.979\n",
      "r2: 0.593\n"
     ]
    },
    {
     "data": {
      "text/plain": [
       "{'rmse': 8463.538, 'mae': 5190.979, 'r2': 0.593}"
      ]
     },
     "execution_count": 49,
     "metadata": {},
     "output_type": "execute_result"
    }
   ],
   "source": [
    "# Métricas\n",
    "ridge_reg.metrics(X_test, y_test)"
   ]
  },
  {
   "cell_type": "markdown",
   "metadata": {},
   "source": [
    "## 4.2 SGD"
   ]
  },
  {
   "cell_type": "code",
   "execution_count": 54,
   "metadata": {},
   "outputs": [
    {
     "name": "stdout",
     "output_type": "stream",
     "text": [
      "Mejores parámetros:\n",
      "{'alpha': 0, 'loss': 'squared_epsilon_insensitive'}\n",
      "\n",
      "Realizado en 141.0s\n"
     ]
    }
   ],
   "source": [
    "# Establecemos parámetros a evaluar en el modelo\n",
    "sgd_grid = {'loss': ['squared_epsilon_insensitive', 'squared_loss'],\n",
    "            'alpha': [0, 0.0001, 0.00001]\n",
    "          }\n",
    "# Instanciamos Clase auxiliar para entrenar, ajustar y evaluar modelos de ML\n",
    "sgd_reg = MLModel(model=SGDRegressor(penalty = 'l1',\n",
    "                                     early_stopping = False,\n",
    "                                     random_state=rd_seed))\n",
    "# Implementación del grid search\n",
    "sgd_reg.grid_search(X_train,\n",
    "                    y_train,\n",
    "                    param_grid=sgd_grid,\n",
    "                    n_jobs=-2,\n",
    "                    cv=cv)"
   ]
  },
  {
   "cell_type": "code",
   "execution_count": 55,
   "metadata": {},
   "outputs": [
    {
     "name": "stdout",
     "output_type": "stream",
     "text": [
      "rmse: 8481.539\n",
      "mae: 5196.783\n",
      "r2: 0.591\n"
     ]
    },
    {
     "data": {
      "text/plain": [
       "{'rmse': 8481.539, 'mae': 5196.783, 'r2': 0.591}"
      ]
     },
     "execution_count": 55,
     "metadata": {},
     "output_type": "execute_result"
    }
   ],
   "source": [
    "sgd_reg.metrics(X_test, y_test)"
   ]
  },
  {
   "cell_type": "markdown",
   "metadata": {},
   "source": [
    "## 4.3 LightGBM"
   ]
  },
  {
   "cell_type": "code",
   "execution_count": null,
   "metadata": {},
   "outputs": [],
   "source": [
    "# Establecemos parámetros a evaluar en el modelo\n",
    "lgb_grid = {'max_depth': [3, 4, 5, 6], \n",
    "            'num_leaves': [30, 50, 60]}\n",
    "# Instanciamos Clase auxiliar para entrenar, ajustar y evaluar modelos de ML\n",
    "lgb_reg = MLModel(model=LGBMRegressor(n_jobs=1,\n",
    "                                      random_state=rd_seed))\n",
    "# Implementación del grid search\n",
    "lgb_reg.grid_search(X_train,\n",
    "                    y_train,\n",
    "                    param_grid=lgb_grid,\n",
    "                    n_jobs=-2,\n",
    "                    cv=cv)"
   ]
  },
  {
   "cell_type": "code",
   "execution_count": null,
   "metadata": {},
   "outputs": [],
   "source": [
    "lgb_reg.metrics(X_test, y_test)"
   ]
  },
  {
   "cell_type": "markdown",
   "metadata": {},
   "source": [
    "## 4.4 XGBoost"
   ]
  },
  {
   "cell_type": "code",
   "execution_count": null,
   "metadata": {},
   "outputs": [],
   "source": [
    "# Establecemos parámetros a evaluar en el modelo\n",
    "xgb_grid = {'max_depth': [4, 5, 6, 7], \n",
    "            'n_estimators': [ 60, 70, 80]}\n",
    "# Instanciamos Clase auxiliar para entrenar, ajustar y evaluar modelos de ML\n",
    "xgb_reg = MLModel(model=XGBRegressor(objective ='reg:squarederror',\n",
    "                                     n_jobs=1,\n",
    "                                     seed=rd_seed))\n",
    "# Implementación del grid search\n",
    "xgb_reg.grid_search(X_train,\n",
    "                    y_train,\n",
    "                    param_grid=xgb_grid,\n",
    "                    n_jobs=-2,\n",
    "                    cv=cv)"
   ]
  },
  {
   "cell_type": "code",
   "execution_count": null,
   "metadata": {},
   "outputs": [],
   "source": [
    "# Métricas\n",
    "xgb_reg.metrics(X_test, y_test)"
   ]
  },
  {
   "cell_type": "code",
   "execution_count": null,
   "metadata": {},
   "outputs": [],
   "source": [
    "# Experimental: Red Neuronal"
   ]
  },
  {
   "cell_type": "code",
   "execution_count": 56,
   "metadata": {},
   "outputs": [],
   "source": [
    "# Clase para instanciar modelos de Keras como objetos de scikit-learn\n",
    "from tensorflow.keras.wrappers.scikit_learn import KerasRegressor\n",
    "# Regularizador para neuronas\n",
    "from tensorflow.keras.regularizers import l2\n",
    "# Arquitectura secuencial para modelos de redes neuronales\n",
    "from tensorflow.keras.models import Sequential\n",
    "# Clase para conexciónes densamente pobladas\n",
    "from tensorflow.keras.layers import Dense"
   ]
  },
  {
   "cell_type": "code",
   "execution_count": 74,
   "metadata": {},
   "outputs": [
    {
     "name": "stdout",
     "output_type": "stream",
     "text": [
      "Model: \"sequential_7\"\n",
      "_________________________________________________________________\n",
      "Layer (type)                 Output Shape              Param #   \n",
      "=================================================================\n",
      "Primera_capa (Dense)         (None, 20)                1300      \n",
      "_________________________________________________________________\n",
      "Segunda_capa (Dense)         (None, 10)                210       \n",
      "_________________________________________________________________\n",
      "output (Dense)               (None, 1)                 11        \n",
      "=================================================================\n",
      "Total params: 1,521\n",
      "Trainable params: 1,521\n",
      "Non-trainable params: 0\n",
      "_________________________________________________________________\n"
     ]
    }
   ],
   "source": [
    "# Norma de regularización con lambda=0.01\n",
    "ridge_regularizer = l2(0.0005)\n",
    "\n",
    "\n",
    "# Instanciamos la Red Neuronal\n",
    "input_dim = (X_train.shape[1],)\n",
    "model = Sequential()\n",
    "model.add(Dense(20, activation='relu',\n",
    "                kernel_regularizer = ridge_regularizer,\n",
    "                use_bias=True, \n",
    "                input_shape=input_dim,\n",
    "                name='Primera_capa'))\n",
    "\n",
    "model.add(Dense(10, activation='relu', \n",
    "                kernel_regularizer = ridge_regularizer,\n",
    "                use_bias=True, \n",
    "                name='Segunda_capa'))\n",
    "\n",
    "model.add(Dense(1, activation='linear', use_bias=True, name='output'))\n",
    "model.compile(optimizer='adam', loss='mean_squared_error', metrics=['mean_squared_error'])\n",
    "model.summary()"
   ]
  },
  {
   "cell_type": "code",
   "execution_count": 76,
   "metadata": {},
   "outputs": [
    {
     "name": "stdout",
     "output_type": "stream",
     "text": [
      "WARNING:tensorflow:Falling back from v2 loop because of error: Failed to find data adapter that can handle input: <class 'pandas.core.frame.DataFrame'>, <class 'NoneType'>\n",
      "Train on 150088 samples, validate on 49912 samples\n",
      "Epoch 1/50\n",
      "150088/150088 [==============================] - 5s 35us/sample - loss: 96055320.2173 - mean_squared_error: 96055288.0000 - val_loss: 85974869.9074 - val_mean_squared_error: 85974864.0000\n",
      "Epoch 2/50\n",
      "150088/150088 [==============================] - 6s 39us/sample - loss: 95554072.8792 - mean_squared_error: 95554104.0000 - val_loss: 85569995.2268 - val_mean_squared_error: 85569992.0000\n",
      "Epoch 3/50\n",
      "150088/150088 [==============================] - 6s 39us/sample - loss: 95075316.7486 - mean_squared_error: 95075280.0000 - val_loss: 85214268.5251 - val_mean_squared_error: 85214272.0000\n",
      "Epoch 4/50\n",
      "150088/150088 [==============================] - 6s 39us/sample - loss: 94618494.8572 - mean_squared_error: 94618464.0000 - val_loss: 84892128.0282 - val_mean_squared_error: 84892120.0000\n",
      "Epoch 5/50\n",
      "150088/150088 [==============================] - 6s 38us/sample - loss: 94182389.9545 - mean_squared_error: 94182360.0000 - val_loss: 84495086.6870 - val_mean_squared_error: 84495096.0000\n",
      "Epoch 6/50\n",
      "150088/150088 [==============================] - 6s 39us/sample - loss: 93750156.5094 - mean_squared_error: 93750152.0000 - val_loss: 84158733.6663 - val_mean_squared_error: 84158712.0000\n",
      "Epoch 7/50\n",
      "150088/150088 [==============================] - 6s 40us/sample - loss: 93347615.7359 - mean_squared_error: 93347608.0000 - val_loss: 83848713.7375 - val_mean_squared_error: 83848720.0000\n",
      "Epoch 8/50\n",
      "150088/150088 [==============================] - 6s 39us/sample - loss: 92943877.9494 - mean_squared_error: 92943848.0000 - val_loss: 83537985.6823 - val_mean_squared_error: 83537992.0000\n",
      "Epoch 9/50\n",
      "150088/150088 [==============================] - 6s 39us/sample - loss: 92542908.3375 - mean_squared_error: 92542904.0000 - val_loss: 83260640.3449 - val_mean_squared_error: 83260624.0000\n",
      "Epoch 10/50\n",
      "150088/150088 [==============================] - 6s 39us/sample - loss: 92171535.8533 - mean_squared_error: 92171496.0000 - val_loss: 82968216.5956 - val_mean_squared_error: 82968216.0000\n",
      "Epoch 11/50\n",
      "150088/150088 [==============================] - 6s 40us/sample - loss: 91808242.4199 - mean_squared_error: 91808296.0000 - val_loss: 82694809.3015 - val_mean_squared_error: 82694800.0000\n",
      "Epoch 12/50\n",
      "150088/150088 [==============================] - 6s 39us/sample - loss: 91450467.7879 - mean_squared_error: 91450456.0000 - val_loss: 82405536.9720 - val_mean_squared_error: 82405520.0000\n",
      "Epoch 13/50\n",
      "150088/150088 [==============================] - 6s 40us/sample - loss: 91098796.1320 - mean_squared_error: 91098792.0000 - val_loss: 82156909.4983 - val_mean_squared_error: 82156904.0000\n",
      "Epoch 14/50\n",
      "150088/150088 [==============================] - 6s 40us/sample - loss: 90739292.8774 - mean_squared_error: 90739248.0000 - val_loss: 81911169.6766 - val_mean_squared_error: 81911184.0000\n",
      "Epoch 15/50\n",
      "150088/150088 [==============================] - 6s 39us/sample - loss: 90387607.2557 - mean_squared_error: 90387608.0000 - val_loss: 81619862.3081 - val_mean_squared_error: 81619864.0000\n",
      "Epoch 16/50\n",
      "150088/150088 [==============================] - 6s 40us/sample - loss: 90033650.4159 - mean_squared_error: 90033632.0000 - val_loss: 81350658.4132 - val_mean_squared_error: 81350640.0000\n",
      "Epoch 17/50\n",
      "150088/150088 [==============================] - 6s 39us/sample - loss: 89686031.9923 - mean_squared_error: 89686056.0000 - val_loss: 81094521.1207 - val_mean_squared_error: 81094504.0000\n",
      "Epoch 18/50\n",
      "150088/150088 [==============================] - 6s 39us/sample - loss: 89335505.5901 - mean_squared_error: 89335472.0000 - val_loss: 80833371.0120 - val_mean_squared_error: 80833336.0000\n",
      "Epoch 19/50\n",
      "150088/150088 [==============================] - 6s 39us/sample - loss: 88986230.8779 - mean_squared_error: 88986232.0000 - val_loss: 80562862.9197 - val_mean_squared_error: 80562848.0000\n",
      "Epoch 20/50\n",
      "150088/150088 [==============================] - 6s 39us/sample - loss: 88635794.1859 - mean_squared_error: 88635816.0000 - val_loss: 80306532.1680 - val_mean_squared_error: 80306528.0000\n",
      "Epoch 21/50\n",
      "150088/150088 [==============================] - 6s 40us/sample - loss: 88292079.8190 - mean_squared_error: 88292104.0000 - val_loss: 80087560.8681 - val_mean_squared_error: 80087544.0000\n",
      "Epoch 22/50\n",
      "150088/150088 [==============================] - 6s 39us/sample - loss: 87947497.9184 - mean_squared_error: 87947512.0000 - val_loss: 79823345.0104 - val_mean_squared_error: 79823336.0000\n",
      "Epoch 23/50\n",
      "150088/150088 [==============================] - 6s 39us/sample - loss: 87599182.7434 - mean_squared_error: 87599144.0000 - val_loss: 79537953.8567 - val_mean_squared_error: 79537952.0000\n",
      "Epoch 24/50\n",
      "150088/150088 [==============================] - 6s 39us/sample - loss: 87261953.8236 - mean_squared_error: 87261960.0000 - val_loss: 79306108.3488 - val_mean_squared_error: 79306096.0000\n",
      "Epoch 25/50\n",
      "150088/150088 [==============================] - 6s 39us/sample - loss: 86918670.5062 - mean_squared_error: 86918688.0000 - val_loss: 79064460.3924 - val_mean_squared_error: 79064456.0000\n",
      "Epoch 26/50\n",
      "150088/150088 [==============================] - 6s 38us/sample - loss: 86577528.5373 - mean_squared_error: 86577464.0000 - val_loss: 78795937.5349 - val_mean_squared_error: 78795928.0000\n",
      "Epoch 27/50\n",
      "150088/150088 [==============================] - 6s 38us/sample - loss: 86241305.4070 - mean_squared_error: 86241296.0000 - val_loss: 78595748.6322 - val_mean_squared_error: 78595752.0000\n",
      "Epoch 28/50\n",
      "150088/150088 [==============================] - 6s 39us/sample - loss: 85902832.1548 - mean_squared_error: 85902784.0000 - val_loss: 78335743.4762 - val_mean_squared_error: 78335736.0000\n",
      "Epoch 29/50\n",
      "150088/150088 [==============================] - 6s 39us/sample - loss: 85562660.4746 - mean_squared_error: 85562640.0000 - val_loss: 78070437.4265 - val_mean_squared_error: 78070432.0000\n",
      "Epoch 30/50\n",
      "150088/150088 [==============================] - 6s 39us/sample - loss: 85227175.3755 - mean_squared_error: 85227184.0000 - val_loss: 77819152.9053 - val_mean_squared_error: 77819144.0000\n",
      "Epoch 31/50\n",
      "150088/150088 [==============================] - 6s 39us/sample - loss: 84900536.3927 - mean_squared_error: 84900520.0000 - val_loss: 77609126.2138 - val_mean_squared_error: 77609152.0000\n",
      "Epoch 32/50\n",
      "150088/150088 [==============================] - 6s 42us/sample - loss: 84566444.1580 - mean_squared_error: 84566464.0000 - val_loss: 77379938.6414 - val_mean_squared_error: 77379952.0000\n",
      "Epoch 33/50\n",
      "150088/150088 [==============================] - 6s 40us/sample - loss: 84240441.1583 - mean_squared_error: 84240416.0000 - val_loss: 77117671.5692 - val_mean_squared_error: 77117656.0000\n",
      "Epoch 34/50\n",
      "150088/150088 [==============================] - 6s 41us/sample - loss: 83917783.1263 - mean_squared_error: 83917760.0000 - val_loss: 76894805.2015 - val_mean_squared_error: 76894784.0000\n",
      "Epoch 35/50\n",
      "150088/150088 [==============================] - 6s 39us/sample - loss: 83601486.9039 - mean_squared_error: 83601472.0000 - val_loss: 76674898.0401 - val_mean_squared_error: 76674864.0000\n",
      "Epoch 36/50\n",
      "150088/150088 [==============================] - 6s 39us/sample - loss: 83286599.0971 - mean_squared_error: 83286600.0000 - val_loss: 76491455.2691 - val_mean_squared_error: 76491456.0000\n",
      "Epoch 37/50\n",
      "150088/150088 [==============================] - 6s 39us/sample - loss: 82979496.3763 - mean_squared_error: 82979528.0000 - val_loss: 76249791.2223 - val_mean_squared_error: 76249784.0000\n",
      "Epoch 38/50\n",
      "150088/150088 [==============================] - 6s 39us/sample - loss: 82671627.4482 - mean_squared_error: 82671624.0000 - val_loss: 76039256.3263 - val_mean_squared_error: 76039248.0000\n",
      "Epoch 39/50\n",
      "150088/150088 [==============================] - 6s 40us/sample - loss: 82357208.6059 - mean_squared_error: 82357224.0000 - val_loss: 75830920.4674 - val_mean_squared_error: 75830920.0000\n",
      "Epoch 40/50\n",
      "150088/150088 [==============================] - 6s 39us/sample - loss: 82050981.9238 - mean_squared_error: 82050984.0000 - val_loss: 75621398.7549 - val_mean_squared_error: 75621408.0000\n",
      "Epoch 41/50\n",
      "150088/150088 [==============================] - 6s 39us/sample - loss: 81735386.8380 - mean_squared_error: 81735392.0000 - val_loss: 75395227.4890 - val_mean_squared_error: 75395216.0000\n",
      "Epoch 42/50\n",
      "150088/150088 [==============================] - 6s 40us/sample - loss: 81429784.9669 - mean_squared_error: 81429808.0000 - val_loss: 75200172.9360 - val_mean_squared_error: 75200152.0000\n",
      "Epoch 43/50\n",
      "150088/150088 [==============================] - 6s 40us/sample - loss: 81124791.7270 - mean_squared_error: 81124776.0000 - val_loss: 75000775.5429 - val_mean_squared_error: 75000768.0000\n",
      "Epoch 44/50\n",
      "150088/150088 [==============================] - 6s 39us/sample - loss: 80826416.4524 - mean_squared_error: 80826416.0000 - val_loss: 74785660.6302 - val_mean_squared_error: 74785648.0000\n",
      "Epoch 45/50\n",
      "150088/150088 [==============================] - 6s 39us/sample - loss: 80516104.7460 - mean_squared_error: 80516072.0000 - val_loss: 74595821.3727 - val_mean_squared_error: 74595808.0000\n",
      "Epoch 46/50\n",
      "150088/150088 [==============================] - 6s 38us/sample - loss: 80219565.5409 - mean_squared_error: 80219512.0000 - val_loss: 74332317.5535 - val_mean_squared_error: 74332296.0000\n",
      "Epoch 47/50\n",
      "150088/150088 [==============================] - 6s 38us/sample - loss: 79909782.0813 - mean_squared_error: 79909784.0000 - val_loss: 74130171.6557 - val_mean_squared_error: 74130184.0000\n",
      "Epoch 48/50\n",
      "150088/150088 [==============================] - 6s 39us/sample - loss: 79610026.1519 - mean_squared_error: 79610032.0000 - val_loss: 73953757.4804 - val_mean_squared_error: 73953736.0000\n",
      "Epoch 49/50\n",
      "150088/150088 [==============================] - 6s 39us/sample - loss: 79307736.0380 - mean_squared_error: 79307672.0000 - val_loss: 73721686.3260 - val_mean_squared_error: 73721680.0000\n",
      "Epoch 50/50\n",
      "150088/150088 [==============================] - 6s 39us/sample - loss: 79010941.5950 - mean_squared_error: 79010936.0000 - val_loss: 73557113.0252 - val_mean_squared_error: 73557104.0000\n"
     ]
    },
    {
     "data": {
      "text/plain": [
       "<tensorflow.python.keras.callbacks.History at 0x7ffb5cad5810>"
      ]
     },
     "execution_count": 76,
     "metadata": {},
     "output_type": "execute_result"
    }
   ],
   "source": [
    "model.fit(X_train, y_train, batch_size=512, epochs=50, validation_data=(X_test, y_test))"
   ]
  },
  {
   "cell_type": "raw",
   "metadata": {},
   "source": [
    "np.sqrt(72202952)"
   ]
  }
 ],
 "metadata": {
  "kernelspec": {
   "display_name": "Python 3",
   "language": "python",
   "name": "python3"
  },
  "language_info": {
   "codemirror_mode": {
    "name": "ipython",
    "version": 3
   },
   "file_extension": ".py",
   "mimetype": "text/x-python",
   "name": "python",
   "nbconvert_exporter": "python",
   "pygments_lexer": "ipython3",
   "version": "3.7.4"
  }
 },
 "nbformat": 4,
 "nbformat_minor": 4
}
